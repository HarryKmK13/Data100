{
 "cells": [
  {
   "cell_type": "code",
   "execution_count": 32,
   "id": "453cc7a1",
   "metadata": {
    "deletable": false,
    "editable": false
   },
   "outputs": [],
   "source": [
    "# Initialize Otter\n",
    "import otter\n",
    "grader = otter.Notebook(\"hw07.ipynb\")"
   ]
  },
  {
   "cell_type": "markdown",
   "id": "4169b0e4",
   "metadata": {
    "tags": []
   },
   "source": [
    "<a id=\"top\"></a>\n",
    "\n",
    "# Homework 7: IMDb\n",
    "\n",
    "We will use SQL to dive deep into the Internet Movie Database (IMDb) and answer different questions involving movies, actors, and movie ratings.\n",
    "\n",
    "## Due Date: Thursday, April 17th, 11:59 PM\n",
    "\n",
    "You must submit this assignment to Gradescope by the on-time deadline, Thursday, April 17th, 11:59 PM. Please read the syllabus for the Slip Day policy. No late submissions beyond what is outlined in the Slip Day policy will be accepted. **We strongly encourage you to submit your work to Gradescope several hours before the deadline.** This way, you will have ample time to reach out to staff for support if you encounter difficulties with submission. While course staff is happy to help guide you with submitting your assignment ahead of the deadline, we will not respond to last-minute requests for assistance (TAs need to sleep, after all!).\n",
    "\n",
    "Please read the instructions carefully when submitting your work to Gradescope. \n",
    "\n",
    "\n",
    "##  Collaboration Policy\n",
    "\n",
    "Data science is a collaborative activity. While you may talk with others about the homework, we ask that you **write your solutions individually**. If you do discuss the assignments with others, please **include their names** below."
   ]
  },
  {
   "cell_type": "markdown",
   "id": "5691e11e",
   "metadata": {},
   "source": [
    "**Collaborators**: *list collaborators here*"
   ]
  },
  {
   "cell_type": "markdown",
   "id": "962db40d",
   "metadata": {},
   "source": [
    "## Grading \n",
    "\n",
    "Grading is broken down into autograded answers and free response. For autograded answers, the results of your code are compared to provided and/or hidden tests. For free response, readers will evaluate how well you answered the question and/or fulfilled the requirements of the question.\n",
    "\n",
    "<!--\n",
    "<details>\n",
    "    <summary>[Click to Expand] <b>Scoring Breakdown</b></summary>-->\n",
    "|Question| Manual | Points|\n",
    "|---|---|---|\n",
    "|1a | No | 2 |\n",
    "|1b | No | 2 |\n",
    "|2 | No | 3 |\n",
    "|3 | No | 3 |\n",
    "|4a | No | 4 |\n",
    "|4b | Yes | 2 |\n",
    "|5 | No | 4 |\n",
    "|Total | 1 |20 |\n",
    "</details>"
   ]
  },
  {
   "cell_type": "markdown",
   "id": "0178dc65-520d-4389-a049-7ac0435b2303",
   "metadata": {},
   "source": [
    "## Before You Start\n",
    "\n",
    "For each question in the assignment, please write down your answer in the answer cell(s) right below the question. \n",
    "\n",
    "We understand that it is helpful to have extra cells breaking down the process towards reaching your final answer. If you happen to create new cells below your answer to run code, **NEVER** add cells between a question cell and the answer cell below it. It will cause errors when we run the autograder, and it will sometimes cause a failure to generate the PDF file.\n",
    "\n",
    "**Important note: Please only have ONE active SQL database running at once on DataHub, meaning do not have multiple homework/lab/lecture notebooks running at the same time**\n",
    "\n",
    "**Important note: The local autograder tests will not be comprehensive. You can pass the automated tests in your notebook but still fail tests in the autograder.** Please be sure to check your results carefully.\n",
    "\n",
    "\n",
    "### Debugging Guide\n",
    "If you run into any technical issues, we highly recommend checking out the [Data 100 Debugging Guide](https://ds100.org/debugging-guide/). In this guide, you can find general questions about Jupyter notebooks / Datahub, Gradescope, common SQL errors, and more."
   ]
  },
  {
   "cell_type": "code",
   "execution_count": 33,
   "id": "75a9a6e0",
   "metadata": {},
   "outputs": [
    {
     "name": "stdout",
     "output_type": "stream",
     "text": [
      "The sql extension is already loaded. To reload it, use:\n",
      "  %reload_ext sql\n"
     ]
    }
   ],
   "source": [
    "# Run this cell to set up your notebook; no further action is needed\n",
    "import pandas as pd\n",
    "import numpy as np\n",
    "import matplotlib.pyplot as plt\n",
    "import plotly.express as px\n",
    "import seaborn as sns\n",
    "import sqlalchemy\n",
    "from pathlib import Path\n",
    "import sql\n",
    "\n",
    "plt.style.use('fivethirtyeight') # Use plt.style.available to see more styles\n",
    "sns.set()\n",
    "sns.set_context(\"talk\")\n",
    "np.set_printoptions(threshold=5) # Avoid printing out big matrices\n",
    "%matplotlib inline\n",
    "%load_ext sql"
   ]
  },
  {
   "cell_type": "markdown",
   "id": "02001461-02db-4ca3-b726-cf7933457820",
   "metadata": {
    "tags": []
   },
   "source": [
    "<br/><br/>\n",
    "\n",
    "<hr style=\"border: 5px solid #003262;\" />\n",
    "<hr style=\"border: 1px solid #fdb515;\" />\n",
    "\n",
    "## The IMDB (mini) Dataset\n",
    "\n",
    "We will explore a miniature version of the [IMDb Dataset](https://www.imdb.com/interfaces/). This is the same dataset that we used for this week's lab.\n",
    "\n",
    "**Caution: Be careful with large SQL queries!!** You may need to reboot your Jupyter Hub instance if it stops responding. To avoid printing out 100k-sized tables, we've adjusted the display limit to ensure that the tables displayed are truncated to 20 rows (though they may contain more rows in reality)."
   ]
  },
  {
   "cell_type": "code",
   "execution_count": 34,
   "id": "7abe88b4-33e2-4509-b8d2-27527fc81bc9",
   "metadata": {},
   "outputs": [],
   "source": [
    "%config SqlMagic.displaylimit = 20\n",
    "%config SqlMagic.style = 'DEFAULT'"
   ]
  },
  {
   "cell_type": "markdown",
   "id": "3d9cf809-312c-4c49-8cbb-99375ee59234",
   "metadata": {
    "tags": []
   },
   "source": [
    "Let's set up the SQL database."
   ]
  },
  {
   "cell_type": "markdown",
   "id": "81e901ed-405c-4816-a600-b898004f8ba7",
   "metadata": {},
   "source": [
    "## Question 1 - Setup\n",
    "\n",
    "Please just run the cells below to set up your SQL database and the autograder."
   ]
  },
  {
   "cell_type": "code",
   "execution_count": 35,
   "id": "fe61c843-881f-487f-87c5-d41786cfb61c",
   "metadata": {},
   "outputs": [],
   "source": [
    "import duckdb"
   ]
  },
  {
   "cell_type": "code",
   "execution_count": 36,
   "id": "0ce4799f-2c40-48c1-8bec-c6f3f4104a58",
   "metadata": {},
   "outputs": [],
   "source": [
    "# Run this cell to connect to the database\n",
    "conn = duckdb.connect()\n",
    "conn.query(\"INSTALL sqlite\")"
   ]
  },
  {
   "cell_type": "code",
   "execution_count": 37,
   "id": "bcb39724-b9ae-4f3d-97f2-39dc2c65e0e7",
   "metadata": {},
   "outputs": [],
   "source": [
    "%sql duckdb:///data/imdbmini.db"
   ]
  },
  {
   "cell_type": "markdown",
   "id": "ad6e20a0",
   "metadata": {},
   "source": [
    "Let's take a look at the table schemas:"
   ]
  },
  {
   "cell_type": "code",
   "execution_count": 38,
   "id": "f64a601a",
   "metadata": {},
   "outputs": [
    {
     "data": {
      "text/html": [
       "<span style=\"None\">Running query in &#x27;duckdb:///data/imdbmini.db&#x27;</span>"
      ],
      "text/plain": [
       "Running query in 'duckdb:///data/imdbmini.db'"
      ]
     },
     "metadata": {},
     "output_type": "display_data"
    },
    {
     "data": {
      "text/html": [
       "<table>\n",
       "    <thead>\n",
       "        <tr>\n",
       "            <th>type</th>\n",
       "            <th>name</th>\n",
       "            <th>tbl_name</th>\n",
       "            <th>rootpage</th>\n",
       "            <th>sql</th>\n",
       "        </tr>\n",
       "    </thead>\n",
       "    <tbody>\n",
       "        <tr>\n",
       "            <td>table</td>\n",
       "            <td>Title</td>\n",
       "            <td>Title</td>\n",
       "            <td>0</td>\n",
       "            <td>CREATE TABLE Title(tconst BIGINT, titleType VARCHAR, primaryTitle VARCHAR, originalTitle VARCHAR, isAdult VARCHAR, startYear VARCHAR, endYear VARCHAR, runtimeMinutes VARCHAR, genres VARCHAR);</td>\n",
       "        </tr>\n",
       "        <tr>\n",
       "            <td>table</td>\n",
       "            <td>Name</td>\n",
       "            <td>Name</td>\n",
       "            <td>0</td>\n",
       "            <td>CREATE TABLE \"Name\"(nconst BIGINT, primaryName VARCHAR, birthYear VARCHAR, deathYear VARCHAR, primaryProfession VARCHAR);</td>\n",
       "        </tr>\n",
       "        <tr>\n",
       "            <td>table</td>\n",
       "            <td>Role</td>\n",
       "            <td>Role</td>\n",
       "            <td>0</td>\n",
       "            <td>CREATE TABLE \"Role\"(tconst BIGINT, ordering VARCHAR, nconst BIGINT, category VARCHAR, job VARCHAR, characters VARCHAR);</td>\n",
       "        </tr>\n",
       "        <tr>\n",
       "            <td>table</td>\n",
       "            <td>Rating</td>\n",
       "            <td>Rating</td>\n",
       "            <td>0</td>\n",
       "            <td>CREATE TABLE Rating(tconst BIGINT, averageRating VARCHAR, numVotes VARCHAR);</td>\n",
       "        </tr>\n",
       "    </tbody>\n",
       "</table>"
      ],
      "text/plain": [
       "+-------+--------+----------+----------+-------------------------------------------------------------------------------------------------------------------------------------------------------------------------------------------------+\n",
       "|  type |  name  | tbl_name | rootpage |                                                                                               sql                                                                                               |\n",
       "+-------+--------+----------+----------+-------------------------------------------------------------------------------------------------------------------------------------------------------------------------------------------------+\n",
       "| table | Title  |  Title   |    0     | CREATE TABLE Title(tconst BIGINT, titleType VARCHAR, primaryTitle VARCHAR, originalTitle VARCHAR, isAdult VARCHAR, startYear VARCHAR, endYear VARCHAR, runtimeMinutes VARCHAR, genres VARCHAR); |\n",
       "| table |  Name  |   Name   |    0     |                                    CREATE TABLE \"Name\"(nconst BIGINT, primaryName VARCHAR, birthYear VARCHAR, deathYear VARCHAR, primaryProfession VARCHAR);                                    |\n",
       "| table |  Role  |   Role   |    0     |                                     CREATE TABLE \"Role\"(tconst BIGINT, ordering VARCHAR, nconst BIGINT, category VARCHAR, job VARCHAR, characters VARCHAR);                                     |\n",
       "| table | Rating |  Rating  |    0     |                                                           CREATE TABLE Rating(tconst BIGINT, averageRating VARCHAR, numVotes VARCHAR);                                                          |\n",
       "+-------+--------+----------+----------+-------------------------------------------------------------------------------------------------------------------------------------------------------------------------------------------------+"
      ]
     },
     "execution_count": 38,
     "metadata": {},
     "output_type": "execute_result"
    }
   ],
   "source": [
    "%%sql\n",
    "-- just run this cell --\n",
    "SELECT * FROM sqlite_master WHERE type='table';"
   ]
  },
  {
   "cell_type": "markdown",
   "id": "862c48dd",
   "metadata": {},
   "source": [
    "From running the above cell, we see the database has 4 tables: `Name`, `Role`, `Rating`, and `Title`.\n",
    "\n",
    "<details open>\n",
    "    <summary>[<b>Click to Expand</b>] See descriptions of each table's schema below. You can also find it in the `schemas.txt` file, which is in the same directory as this notebook. We have only included descriptions for columns that could be of potential use in this homework. </summary>\n",
    "    \n",
    "**`Name`** – Contains the following information for names of people.\n",
    "    \n",
    "- nconst (BIGINT) - alphanumeric unique identifier of the name/person\n",
    "- primaryName (VARCHAR) - name by which the person is most often credited\n",
    "- birthYear (VARCHAR) - in YYYY format\n",
    "- deathYear (VARCHAR) - in YYYY format\n",
    "    \n",
    "    \n",
    "**`Role`** – Contains the principal cast/crew for titles.\n",
    "    \n",
    "- tconst (BIGINT) - alphanumeric unique identifier of the title\n",
    "- ordering (VARCHAR) - a number to uniquely identify rows for a given tconst\n",
    "- nconst (BIGINT) - alphanumeric unique identifier of the name/person\n",
    "- category (VARCHAR) - the category of job that person was in\n",
    "- characters (VARCHAR) - the name of the character played if applicable, else '\\\\N'\n",
    "    \n",
    "**`Rating`** – Contains the IMDb rating and vote information for titles.\n",
    "    \n",
    "- tconst (BIGINT) - alphanumeric unique identifier of the title\n",
    "- averageRating (VARCHAR) – weighted average of all the individual user ratings\n",
    "- numVotes (VARCHAR) - number of votes (i.e., ratings) the title has received\n",
    "    \n",
    "**`Title`** - Contains the following information for titles.\n",
    "    \n",
    "- tconst (BIGINT) - alphanumeric unique identifier of the title\n",
    "- titleType (VARCHAR) -  the type/format of the title\n",
    "- primaryTitle (VARCHAR) -  the more popular title / the title used by the producers on promotional materials at the point of release\n",
    "- isAdult (VARCHAR) - 0: non-adult title; 1: adult title\n",
    "- startYear (VARCHAR) - represents the release year of a title.\n",
    "- runtimeMinutes (VARCHAR) - primary runtime of the title, in minutes\n",
    "    \n",
    "</details>\n",
    "\n",
    "<br/><br/>\n",
    "From the above descriptions, we can conclude the following:\n",
    "* `Name.nconst` and `Title.tconst` are primary keys of the `Name` and `Title` tables, respectively.\n",
    "* `Role.nconst` and `Role.tconst` are **foreign keys** that point to `Name.nconst` and `Title.tconst`, respectively."
   ]
  },
  {
   "cell_type": "markdown",
   "id": "08af56ec-a319-4421-bbd7-60791c5165e9",
   "metadata": {},
   "source": [
    "For a refresher on how to write SQL queries in Jupyter, feel free to reference the start of Lab 10. The main thing to keep in mind is that you can directly write your query in place of the ellipsis under `%%sql --save query_q`. **Please do not edit this line.** \n",
    "\n",
    "For example, we can set `query_example` to the output of the following SQL query and directly see what it contains: "
   ]
  },
  {
   "cell_type": "code",
   "execution_count": 39,
   "id": "963a443d-3bd2-4ae5-aa93-c558841bd698",
   "metadata": {},
   "outputs": [
    {
     "data": {
      "text/html": [
       "<span style=\"None\">Running query in &#x27;duckdb:///data/imdbmini.db&#x27;</span>"
      ],
      "text/plain": [
       "Running query in 'duckdb:///data/imdbmini.db'"
      ]
     },
     "metadata": {},
     "output_type": "display_data"
    },
    {
     "data": {
      "text/html": [
       "<table>\n",
       "    <thead>\n",
       "        <tr>\n",
       "            <th>nconst</th>\n",
       "            <th>primaryName</th>\n",
       "            <th>birthYear</th>\n",
       "            <th>deathYear</th>\n",
       "            <th>primaryProfession</th>\n",
       "        </tr>\n",
       "    </thead>\n",
       "    <tbody>\n",
       "        <tr>\n",
       "            <td>1</td>\n",
       "            <td>Fred Astaire</td>\n",
       "            <td>1899</td>\n",
       "            <td>1987</td>\n",
       "            <td>soundtrack,actor,miscellaneous</td>\n",
       "        </tr>\n",
       "        <tr>\n",
       "            <td>2</td>\n",
       "            <td>Lauren Bacall</td>\n",
       "            <td>1924</td>\n",
       "            <td>2014</td>\n",
       "            <td>actress,soundtrack</td>\n",
       "        </tr>\n",
       "        <tr>\n",
       "            <td>3</td>\n",
       "            <td>Brigitte Bardot</td>\n",
       "            <td>1934</td>\n",
       "            <td>None</td>\n",
       "            <td>actress,soundtrack,music_department</td>\n",
       "        </tr>\n",
       "        <tr>\n",
       "            <td>4</td>\n",
       "            <td>John Belushi</td>\n",
       "            <td>1949</td>\n",
       "            <td>1982</td>\n",
       "            <td>actor,soundtrack,writer</td>\n",
       "        </tr>\n",
       "        <tr>\n",
       "            <td>5</td>\n",
       "            <td>Ingmar Bergman</td>\n",
       "            <td>1918</td>\n",
       "            <td>2007</td>\n",
       "            <td>writer,director,actor</td>\n",
       "        </tr>\n",
       "        <tr>\n",
       "            <td>6</td>\n",
       "            <td>Ingrid Bergman</td>\n",
       "            <td>1915</td>\n",
       "            <td>1982</td>\n",
       "            <td>actress,soundtrack,producer</td>\n",
       "        </tr>\n",
       "        <tr>\n",
       "            <td>7</td>\n",
       "            <td>Humphrey Bogart</td>\n",
       "            <td>1899</td>\n",
       "            <td>1957</td>\n",
       "            <td>actor,soundtrack,producer</td>\n",
       "        </tr>\n",
       "        <tr>\n",
       "            <td>8</td>\n",
       "            <td>Marlon Brando</td>\n",
       "            <td>1924</td>\n",
       "            <td>2004</td>\n",
       "            <td>actor,soundtrack,director</td>\n",
       "        </tr>\n",
       "        <tr>\n",
       "            <td>9</td>\n",
       "            <td>Richard Burton</td>\n",
       "            <td>1925</td>\n",
       "            <td>1984</td>\n",
       "            <td>actor,soundtrack,producer</td>\n",
       "        </tr>\n",
       "        <tr>\n",
       "            <td>10</td>\n",
       "            <td>James Cagney</td>\n",
       "            <td>1899</td>\n",
       "            <td>1986</td>\n",
       "            <td>actor,soundtrack,director</td>\n",
       "        </tr>\n",
       "        <tr>\n",
       "            <td>11</td>\n",
       "            <td>Gary Cooper</td>\n",
       "            <td>1901</td>\n",
       "            <td>1961</td>\n",
       "            <td>actor,soundtrack,producer</td>\n",
       "        </tr>\n",
       "        <tr>\n",
       "            <td>12</td>\n",
       "            <td>Bette Davis</td>\n",
       "            <td>1908</td>\n",
       "            <td>1989</td>\n",
       "            <td>actress,soundtrack,make_up_department</td>\n",
       "        </tr>\n",
       "        <tr>\n",
       "            <td>13</td>\n",
       "            <td>Doris Day</td>\n",
       "            <td>1922</td>\n",
       "            <td>2019</td>\n",
       "            <td>soundtrack,actress,producer</td>\n",
       "        </tr>\n",
       "        <tr>\n",
       "            <td>14</td>\n",
       "            <td>Olivia de Havilland</td>\n",
       "            <td>1916</td>\n",
       "            <td>2020</td>\n",
       "            <td>actress,soundtrack</td>\n",
       "        </tr>\n",
       "        <tr>\n",
       "            <td>15</td>\n",
       "            <td>James Dean</td>\n",
       "            <td>1931</td>\n",
       "            <td>1955</td>\n",
       "            <td>actor,miscellaneous</td>\n",
       "        </tr>\n",
       "    </tbody>\n",
       "</table>"
      ],
      "text/plain": [
       "+--------+---------------------+-----------+-----------+---------------------------------------+\n",
       "| nconst |     primaryName     | birthYear | deathYear |           primaryProfession           |\n",
       "+--------+---------------------+-----------+-----------+---------------------------------------+\n",
       "|   1    |     Fred Astaire    |    1899   |    1987   |     soundtrack,actor,miscellaneous    |\n",
       "|   2    |    Lauren Bacall    |    1924   |    2014   |           actress,soundtrack          |\n",
       "|   3    |   Brigitte Bardot   |    1934   |    None   |  actress,soundtrack,music_department  |\n",
       "|   4    |     John Belushi    |    1949   |    1982   |        actor,soundtrack,writer        |\n",
       "|   5    |    Ingmar Bergman   |    1918   |    2007   |         writer,director,actor         |\n",
       "|   6    |    Ingrid Bergman   |    1915   |    1982   |      actress,soundtrack,producer      |\n",
       "|   7    |   Humphrey Bogart   |    1899   |    1957   |       actor,soundtrack,producer       |\n",
       "|   8    |    Marlon Brando    |    1924   |    2004   |       actor,soundtrack,director       |\n",
       "|   9    |    Richard Burton   |    1925   |    1984   |       actor,soundtrack,producer       |\n",
       "|   10   |     James Cagney    |    1899   |    1986   |       actor,soundtrack,director       |\n",
       "|   11   |     Gary Cooper     |    1901   |    1961   |       actor,soundtrack,producer       |\n",
       "|   12   |     Bette Davis     |    1908   |    1989   | actress,soundtrack,make_up_department |\n",
       "|   13   |      Doris Day      |    1922   |    2019   |      soundtrack,actress,producer      |\n",
       "|   14   | Olivia de Havilland |    1916   |    2020   |           actress,soundtrack          |\n",
       "|   15   |      James Dean     |    1931   |    1955   |          actor,miscellaneous          |\n",
       "+--------+---------------------+-----------+-----------+---------------------------------------+"
      ]
     },
     "execution_count": 39,
     "metadata": {},
     "output_type": "execute_result"
    }
   ],
   "source": [
    "%%sql --save query_example\n",
    "-- This is a one-line SQL comment.\n",
    "/* This is a multi-line\n",
    "   SQL comment. */\n",
    "SELECT * \n",
    "FROM name\n",
    "LIMIT 15;"
   ]
  },
  {
   "cell_type": "code",
   "execution_count": 40,
   "id": "9430eeea-d2d4-453c-987b-00d15658d8f3",
   "metadata": {},
   "outputs": [
    {
     "data": {
      "text/html": [
       "<span style=\"None\">Running query in &#x27;duckdb:///data/imdbmini.db&#x27;</span>"
      ],
      "text/plain": [
       "Running query in 'duckdb:///data/imdbmini.db'"
      ]
     },
     "metadata": {},
     "output_type": "display_data"
    },
    {
     "data": {
      "text/html": [
       "<table>\n",
       "    <thead>\n",
       "        <tr>\n",
       "            <th>tconst</th>\n",
       "            <th>ordering</th>\n",
       "            <th>nconst</th>\n",
       "            <th>category</th>\n",
       "            <th>job</th>\n",
       "            <th>characters</th>\n",
       "        </tr>\n",
       "    </thead>\n",
       "    <tbody>\n",
       "        <tr>\n",
       "            <td>417</td>\n",
       "            <td>1</td>\n",
       "            <td>617588</td>\n",
       "            <td>actor</td>\n",
       "            <td>None</td>\n",
       "            <td>[\"Prof. Barbenfouillis\",\"The Moon\"]</td>\n",
       "        </tr>\n",
       "        <tr>\n",
       "            <td>417</td>\n",
       "            <td>2</td>\n",
       "            <td>29244</td>\n",
       "            <td>actor</td>\n",
       "            <td>None</td>\n",
       "            <td>[\"Astronomer\"]</td>\n",
       "        </tr>\n",
       "        <tr>\n",
       "            <td>417</td>\n",
       "            <td>3</td>\n",
       "            <td>76933</td>\n",
       "            <td>actress</td>\n",
       "            <td>None</td>\n",
       "            <td>[\"Lady in the Moon\"]</td>\n",
       "        </tr>\n",
       "        <tr>\n",
       "            <td>417</td>\n",
       "            <td>4</td>\n",
       "            <td>1215996</td>\n",
       "            <td>actor</td>\n",
       "            <td>None</td>\n",
       "            <td>[\"Astronomer\"]</td>\n",
       "        </tr>\n",
       "        <tr>\n",
       "            <td>417</td>\n",
       "            <td>5</td>\n",
       "            <td>894523</td>\n",
       "            <td>writer</td>\n",
       "            <td>novel \"De la Terre à la Lune\"</td>\n",
       "            <td>None</td>\n",
       "        </tr>\n",
       "        <tr>\n",
       "            <td>417</td>\n",
       "            <td>6</td>\n",
       "            <td>920229</td>\n",
       "            <td>writer</td>\n",
       "            <td>novel \"First Men in the Moon\"</td>\n",
       "            <td>None</td>\n",
       "        </tr>\n",
       "        <tr>\n",
       "            <td>417</td>\n",
       "            <td>7</td>\n",
       "            <td>242155</td>\n",
       "            <td>composer</td>\n",
       "            <td>None</td>\n",
       "            <td>None</td>\n",
       "        </tr>\n",
       "        <tr>\n",
       "            <td>417</td>\n",
       "            <td>8</td>\n",
       "            <td>324073</td>\n",
       "            <td>composer</td>\n",
       "            <td>None</td>\n",
       "            <td>None</td>\n",
       "        </tr>\n",
       "        <tr>\n",
       "            <td>417</td>\n",
       "            <td>9</td>\n",
       "            <td>4491570</td>\n",
       "            <td>composer</td>\n",
       "            <td>None</td>\n",
       "            <td>None</td>\n",
       "        </tr>\n",
       "        <tr>\n",
       "            <td>4972</td>\n",
       "            <td>10</td>\n",
       "            <td>376221</td>\n",
       "            <td>editor</td>\n",
       "            <td>None</td>\n",
       "            <td>None</td>\n",
       "        </tr>\n",
       "        <tr>\n",
       "            <td>4972</td>\n",
       "            <td>1</td>\n",
       "            <td>1273</td>\n",
       "            <td>actress</td>\n",
       "            <td>None</td>\n",
       "            <td>[\"Elsie - Stoneman's Daughter\"]</td>\n",
       "        </tr>\n",
       "        <tr>\n",
       "            <td>4972</td>\n",
       "            <td>2</td>\n",
       "            <td>550615</td>\n",
       "            <td>actress</td>\n",
       "            <td>None</td>\n",
       "            <td>[\"Flora Cameron - the Pet Sister\"]</td>\n",
       "        </tr>\n",
       "        <tr>\n",
       "            <td>4972</td>\n",
       "            <td>3</td>\n",
       "            <td>910400</td>\n",
       "            <td>actor</td>\n",
       "            <td>None</td>\n",
       "            <td>[\"Col. Ben Cameron aka The Little Colonel\"]</td>\n",
       "        </tr>\n",
       "        <tr>\n",
       "            <td>4972</td>\n",
       "            <td>4</td>\n",
       "            <td>178270</td>\n",
       "            <td>actress</td>\n",
       "            <td>None</td>\n",
       "            <td>[\"Margaret Cameron - the Elder Sister\"]</td>\n",
       "        </tr>\n",
       "        <tr>\n",
       "            <td>4972</td>\n",
       "            <td>5</td>\n",
       "            <td>428</td>\n",
       "            <td>director</td>\n",
       "            <td>None</td>\n",
       "            <td>None</td>\n",
       "        </tr>\n",
       "    </tbody>\n",
       "</table>"
      ],
      "text/plain": [
       "+--------+----------+---------+----------+-------------------------------+---------------------------------------------+\n",
       "| tconst | ordering |  nconst | category |              job              |                  characters                 |\n",
       "+--------+----------+---------+----------+-------------------------------+---------------------------------------------+\n",
       "|  417   |    1     |  617588 |  actor   |              None             |     [\"Prof. Barbenfouillis\",\"The Moon\"]     |\n",
       "|  417   |    2     |  29244  |  actor   |              None             |                [\"Astronomer\"]               |\n",
       "|  417   |    3     |  76933  | actress  |              None             |             [\"Lady in the Moon\"]            |\n",
       "|  417   |    4     | 1215996 |  actor   |              None             |                [\"Astronomer\"]               |\n",
       "|  417   |    5     |  894523 |  writer  | novel \"De la Terre à la Lune\" |                     None                    |\n",
       "|  417   |    6     |  920229 |  writer  | novel \"First Men in the Moon\" |                     None                    |\n",
       "|  417   |    7     |  242155 | composer |              None             |                     None                    |\n",
       "|  417   |    8     |  324073 | composer |              None             |                     None                    |\n",
       "|  417   |    9     | 4491570 | composer |              None             |                     None                    |\n",
       "|  4972  |    10    |  376221 |  editor  |              None             |                     None                    |\n",
       "|  4972  |    1     |   1273  | actress  |              None             |       [\"Elsie - Stoneman's Daughter\"]       |\n",
       "|  4972  |    2     |  550615 | actress  |              None             |      [\"Flora Cameron - the Pet Sister\"]     |\n",
       "|  4972  |    3     |  910400 |  actor   |              None             | [\"Col. Ben Cameron aka The Little Colonel\"] |\n",
       "|  4972  |    4     |  178270 | actress  |              None             |   [\"Margaret Cameron - the Elder Sister\"]   |\n",
       "|  4972  |    5     |   428   | director |              None             |                     None                    |\n",
       "+--------+----------+---------+----------+-------------------------------+---------------------------------------------+"
      ]
     },
     "execution_count": 40,
     "metadata": {},
     "output_type": "execute_result"
    }
   ],
   "source": [
    "%%sql\n",
    "SELECT * \n",
    "FROM role\n",
    "LIMIT 15;"
   ]
  },
  {
   "cell_type": "code",
   "execution_count": 41,
   "id": "a0678c3c-d356-46e1-a9ba-ff540b5bb09d",
   "metadata": {},
   "outputs": [
    {
     "data": {
      "text/html": [
       "<span style=\"None\">Running query in &#x27;duckdb:///data/imdbmini.db&#x27;</span>"
      ],
      "text/plain": [
       "Running query in 'duckdb:///data/imdbmini.db'"
      ]
     },
     "metadata": {},
     "output_type": "display_data"
    },
    {
     "data": {
      "text/html": [
       "<table>\n",
       "    <thead>\n",
       "        <tr>\n",
       "            <th>nconst</th>\n",
       "            <th>primaryName</th>\n",
       "            <th>birthYear</th>\n",
       "            <th>deathYear</th>\n",
       "            <th>primaryProfession</th>\n",
       "        </tr>\n",
       "    </thead>\n",
       "    <tbody>\n",
       "        <tr>\n",
       "            <td>1</td>\n",
       "            <td>Fred Astaire</td>\n",
       "            <td>1899</td>\n",
       "            <td>1987</td>\n",
       "            <td>soundtrack,actor,miscellaneous</td>\n",
       "        </tr>\n",
       "        <tr>\n",
       "            <td>2</td>\n",
       "            <td>Lauren Bacall</td>\n",
       "            <td>1924</td>\n",
       "            <td>2014</td>\n",
       "            <td>actress,soundtrack</td>\n",
       "        </tr>\n",
       "        <tr>\n",
       "            <td>3</td>\n",
       "            <td>Brigitte Bardot</td>\n",
       "            <td>1934</td>\n",
       "            <td>None</td>\n",
       "            <td>actress,soundtrack,music_department</td>\n",
       "        </tr>\n",
       "        <tr>\n",
       "            <td>4</td>\n",
       "            <td>John Belushi</td>\n",
       "            <td>1949</td>\n",
       "            <td>1982</td>\n",
       "            <td>actor,soundtrack,writer</td>\n",
       "        </tr>\n",
       "        <tr>\n",
       "            <td>5</td>\n",
       "            <td>Ingmar Bergman</td>\n",
       "            <td>1918</td>\n",
       "            <td>2007</td>\n",
       "            <td>writer,director,actor</td>\n",
       "        </tr>\n",
       "        <tr>\n",
       "            <td>6</td>\n",
       "            <td>Ingrid Bergman</td>\n",
       "            <td>1915</td>\n",
       "            <td>1982</td>\n",
       "            <td>actress,soundtrack,producer</td>\n",
       "        </tr>\n",
       "        <tr>\n",
       "            <td>7</td>\n",
       "            <td>Humphrey Bogart</td>\n",
       "            <td>1899</td>\n",
       "            <td>1957</td>\n",
       "            <td>actor,soundtrack,producer</td>\n",
       "        </tr>\n",
       "        <tr>\n",
       "            <td>8</td>\n",
       "            <td>Marlon Brando</td>\n",
       "            <td>1924</td>\n",
       "            <td>2004</td>\n",
       "            <td>actor,soundtrack,director</td>\n",
       "        </tr>\n",
       "        <tr>\n",
       "            <td>9</td>\n",
       "            <td>Richard Burton</td>\n",
       "            <td>1925</td>\n",
       "            <td>1984</td>\n",
       "            <td>actor,soundtrack,producer</td>\n",
       "        </tr>\n",
       "        <tr>\n",
       "            <td>10</td>\n",
       "            <td>James Cagney</td>\n",
       "            <td>1899</td>\n",
       "            <td>1986</td>\n",
       "            <td>actor,soundtrack,director</td>\n",
       "        </tr>\n",
       "        <tr>\n",
       "            <td>11</td>\n",
       "            <td>Gary Cooper</td>\n",
       "            <td>1901</td>\n",
       "            <td>1961</td>\n",
       "            <td>actor,soundtrack,producer</td>\n",
       "        </tr>\n",
       "        <tr>\n",
       "            <td>12</td>\n",
       "            <td>Bette Davis</td>\n",
       "            <td>1908</td>\n",
       "            <td>1989</td>\n",
       "            <td>actress,soundtrack,make_up_department</td>\n",
       "        </tr>\n",
       "        <tr>\n",
       "            <td>13</td>\n",
       "            <td>Doris Day</td>\n",
       "            <td>1922</td>\n",
       "            <td>2019</td>\n",
       "            <td>soundtrack,actress,producer</td>\n",
       "        </tr>\n",
       "        <tr>\n",
       "            <td>14</td>\n",
       "            <td>Olivia de Havilland</td>\n",
       "            <td>1916</td>\n",
       "            <td>2020</td>\n",
       "            <td>actress,soundtrack</td>\n",
       "        </tr>\n",
       "        <tr>\n",
       "            <td>15</td>\n",
       "            <td>James Dean</td>\n",
       "            <td>1931</td>\n",
       "            <td>1955</td>\n",
       "            <td>actor,miscellaneous</td>\n",
       "        </tr>\n",
       "    </tbody>\n",
       "</table>"
      ],
      "text/plain": [
       "+--------+---------------------+-----------+-----------+---------------------------------------+\n",
       "| nconst |     primaryName     | birthYear | deathYear |           primaryProfession           |\n",
       "+--------+---------------------+-----------+-----------+---------------------------------------+\n",
       "|   1    |     Fred Astaire    |    1899   |    1987   |     soundtrack,actor,miscellaneous    |\n",
       "|   2    |    Lauren Bacall    |    1924   |    2014   |           actress,soundtrack          |\n",
       "|   3    |   Brigitte Bardot   |    1934   |    None   |  actress,soundtrack,music_department  |\n",
       "|   4    |     John Belushi    |    1949   |    1982   |        actor,soundtrack,writer        |\n",
       "|   5    |    Ingmar Bergman   |    1918   |    2007   |         writer,director,actor         |\n",
       "|   6    |    Ingrid Bergman   |    1915   |    1982   |      actress,soundtrack,producer      |\n",
       "|   7    |   Humphrey Bogart   |    1899   |    1957   |       actor,soundtrack,producer       |\n",
       "|   8    |    Marlon Brando    |    1924   |    2004   |       actor,soundtrack,director       |\n",
       "|   9    |    Richard Burton   |    1925   |    1984   |       actor,soundtrack,producer       |\n",
       "|   10   |     James Cagney    |    1899   |    1986   |       actor,soundtrack,director       |\n",
       "|   11   |     Gary Cooper     |    1901   |    1961   |       actor,soundtrack,producer       |\n",
       "|   12   |     Bette Davis     |    1908   |    1989   | actress,soundtrack,make_up_department |\n",
       "|   13   |      Doris Day      |    1922   |    2019   |      soundtrack,actress,producer      |\n",
       "|   14   | Olivia de Havilland |    1916   |    2020   |           actress,soundtrack          |\n",
       "|   15   |      James Dean     |    1931   |    1955   |          actor,miscellaneous          |\n",
       "+--------+---------------------+-----------+-----------+---------------------------------------+"
      ]
     },
     "execution_count": 41,
     "metadata": {},
     "output_type": "execute_result"
    }
   ],
   "source": [
    "%%sql\n",
    "SELECT * \n",
    "FROM name\n",
    "LIMIT 15;"
   ]
  },
  {
   "cell_type": "markdown",
   "id": "34289b6b",
   "metadata": {
    "deletable": false,
    "editable": false
   },
   "source": [
    "<br/>\n",
    "\n",
    "---\n",
    "\n",
    "### Question 1a  \n",
    "Let's determine whether our database includes information going back to the early days of cinema or just more recent data.\n",
    "\n",
    "List the **10 oldest movie titles** by `startYear` and then `primaryTitle` both in **ascending** order. The output should contain the `startYear`, `primaryTitle`, and `titleType`. In this homework, we define a movie as having `titleType='movie'`. Keep this in mind for later questions as well.\n",
    "                                                                                                                               "
   ]
  },
  {
   "cell_type": "code",
   "execution_count": 42,
   "id": "1912a49d-e0eb-44ce-a28a-bbb07dd8780e",
   "metadata": {
    "tags": [
     "otter_answer_cell"
    ]
   },
   "outputs": [
    {
     "data": {
      "text/html": [
       "<span style=\"None\">Running query in &#x27;duckdb:///data/imdbmini.db&#x27;</span>"
      ],
      "text/plain": [
       "Running query in 'duckdb:///data/imdbmini.db'"
      ]
     },
     "metadata": {},
     "output_type": "display_data"
    },
    {
     "data": {
      "text/html": [
       "<table>\n",
       "    <thead>\n",
       "        <tr>\n",
       "            <th>startYear</th>\n",
       "            <th>primaryTitle</th>\n",
       "            <th>titleType</th>\n",
       "        </tr>\n",
       "    </thead>\n",
       "    <tbody>\n",
       "        <tr>\n",
       "            <td>1915</td>\n",
       "            <td>The Birth of a Nation</td>\n",
       "            <td>movie</td>\n",
       "        </tr>\n",
       "        <tr>\n",
       "            <td>1920</td>\n",
       "            <td>The Cabinet of Dr. Caligari</td>\n",
       "            <td>movie</td>\n",
       "        </tr>\n",
       "        <tr>\n",
       "            <td>1921</td>\n",
       "            <td>The Kid</td>\n",
       "            <td>movie</td>\n",
       "        </tr>\n",
       "        <tr>\n",
       "            <td>1922</td>\n",
       "            <td>Nosferatu</td>\n",
       "            <td>movie</td>\n",
       "        </tr>\n",
       "        <tr>\n",
       "            <td>1924</td>\n",
       "            <td>Sherlock Jr.</td>\n",
       "            <td>movie</td>\n",
       "        </tr>\n",
       "        <tr>\n",
       "            <td>1925</td>\n",
       "            <td>Battleship Potemkin</td>\n",
       "            <td>movie</td>\n",
       "        </tr>\n",
       "        <tr>\n",
       "            <td>1925</td>\n",
       "            <td>The Gold Rush</td>\n",
       "            <td>movie</td>\n",
       "        </tr>\n",
       "        <tr>\n",
       "            <td>1926</td>\n",
       "            <td>The General</td>\n",
       "            <td>movie</td>\n",
       "        </tr>\n",
       "        <tr>\n",
       "            <td>1927</td>\n",
       "            <td>Metropolis</td>\n",
       "            <td>movie</td>\n",
       "        </tr>\n",
       "        <tr>\n",
       "            <td>1927</td>\n",
       "            <td>Sunrise</td>\n",
       "            <td>movie</td>\n",
       "        </tr>\n",
       "    </tbody>\n",
       "</table>"
      ],
      "text/plain": [
       "+-----------+-----------------------------+-----------+\n",
       "| startYear |         primaryTitle        | titleType |\n",
       "+-----------+-----------------------------+-----------+\n",
       "|    1915   |    The Birth of a Nation    |   movie   |\n",
       "|    1920   | The Cabinet of Dr. Caligari |   movie   |\n",
       "|    1921   |           The Kid           |   movie   |\n",
       "|    1922   |          Nosferatu          |   movie   |\n",
       "|    1924   |         Sherlock Jr.        |   movie   |\n",
       "|    1925   |     Battleship Potemkin     |   movie   |\n",
       "|    1925   |        The Gold Rush        |   movie   |\n",
       "|    1926   |         The General         |   movie   |\n",
       "|    1927   |          Metropolis         |   movie   |\n",
       "|    1927   |           Sunrise           |   movie   |\n",
       "+-----------+-----------------------------+-----------+"
      ]
     },
     "execution_count": 42,
     "metadata": {},
     "output_type": "execute_result"
    }
   ],
   "source": [
    "%%sql --save query_q1a\n",
    "\n",
    "SELECT startYear, primaryTitle, titleType\n",
    "FROM Title\n",
    "WHERE titleType = 'movie'\n",
    "ORDER BY startYear ASC, primaryTitle ASC\n",
    "LIMIT 10;\n"
   ]
  },
  {
   "cell_type": "code",
   "execution_count": 43,
   "id": "7020ae44-b83d-473f-9684-f386f5c18e4d",
   "metadata": {
    "deletable": false,
    "editable": false
   },
   "outputs": [],
   "source": [
    "# Run this cell for grading purposes. \n",
    "# No further action is required. \n",
    "query = %sqlcmd snippets query_q1a\n",
    "res_q1a = pd.read_sql(query, \"duckdb:///data/imdbmini.db\")"
   ]
  },
  {
   "cell_type": "code",
   "execution_count": 44,
   "id": "de4b7716",
   "metadata": {
    "deletable": false,
    "editable": false
   },
   "outputs": [
    {
     "data": {
      "text/html": [
       "<p><strong><pre style='display: inline;'>q1a</pre></strong> passed! 🍀</p>"
      ],
      "text/plain": [
       "q1a results: All test cases passed!"
      ]
     },
     "execution_count": 44,
     "metadata": {},
     "output_type": "execute_result"
    }
   ],
   "source": [
    "grader.check(\"q1a\")"
   ]
  },
  {
   "cell_type": "markdown",
   "id": "5851e2ed",
   "metadata": {
    "deletable": false,
    "editable": false
   },
   "source": [
    "<br/>\n",
    "\n",
    "---\n",
    "\n",
    "### Question 1b\n",
    "\n",
    "Next, let's calculate the distribution of movies by year. Write a query that returns the **total** number of movie titles for each `startYear` in the `Title` table as `total`. Order your final results by the `startYear` in **ascending** order. As in `q1a`, remember that movies are defined as having `titleType=’movie’`.\n",
    "\n",
    "The first few records of the table should look like the following (but you should compute the entire table):\n",
    "\n",
    "\n",
    "|startYear|total|\n",
    "|------:|-----:|\n",
    "| 1915|1|\n",
    "| 1920|1|\n",
    "| 1921|1|\n",
    "| 1922|1|\n",
    "| ...|...|\n",
    "\n"
   ]
  },
  {
   "cell_type": "code",
   "execution_count": 45,
   "id": "507ef0bd-d92d-4c5a-b689-5614aaae24ec",
   "metadata": {
    "tags": [
     "otter_answer_cell"
    ]
   },
   "outputs": [
    {
     "data": {
      "text/html": [
       "<span style=\"None\">Running query in &#x27;duckdb:///data/imdbmini.db&#x27;</span>"
      ],
      "text/plain": [
       "Running query in 'duckdb:///data/imdbmini.db'"
      ]
     },
     "metadata": {},
     "output_type": "display_data"
    },
    {
     "data": {
      "text/html": [
       "<table>\n",
       "    <thead>\n",
       "        <tr>\n",
       "            <th>startYear</th>\n",
       "            <th>total</th>\n",
       "        </tr>\n",
       "    </thead>\n",
       "    <tbody>\n",
       "        <tr>\n",
       "            <td>1915</td>\n",
       "            <td>1</td>\n",
       "        </tr>\n",
       "        <tr>\n",
       "            <td>1920</td>\n",
       "            <td>1</td>\n",
       "        </tr>\n",
       "        <tr>\n",
       "            <td>1921</td>\n",
       "            <td>1</td>\n",
       "        </tr>\n",
       "        <tr>\n",
       "            <td>1922</td>\n",
       "            <td>1</td>\n",
       "        </tr>\n",
       "        <tr>\n",
       "            <td>1924</td>\n",
       "            <td>1</td>\n",
       "        </tr>\n",
       "        <tr>\n",
       "            <td>1925</td>\n",
       "            <td>2</td>\n",
       "        </tr>\n",
       "        <tr>\n",
       "            <td>1926</td>\n",
       "            <td>1</td>\n",
       "        </tr>\n",
       "        <tr>\n",
       "            <td>1927</td>\n",
       "            <td>2</td>\n",
       "        </tr>\n",
       "        <tr>\n",
       "            <td>1928</td>\n",
       "            <td>2</td>\n",
       "        </tr>\n",
       "        <tr>\n",
       "            <td>1929</td>\n",
       "            <td>1</td>\n",
       "        </tr>\n",
       "        <tr>\n",
       "            <td>1930</td>\n",
       "            <td>1</td>\n",
       "        </tr>\n",
       "        <tr>\n",
       "            <td>1931</td>\n",
       "            <td>5</td>\n",
       "        </tr>\n",
       "        <tr>\n",
       "            <td>1932</td>\n",
       "            <td>3</td>\n",
       "        </tr>\n",
       "        <tr>\n",
       "            <td>1933</td>\n",
       "            <td>3</td>\n",
       "        </tr>\n",
       "        <tr>\n",
       "            <td>1934</td>\n",
       "            <td>2</td>\n",
       "        </tr>\n",
       "        <tr>\n",
       "            <td>1935</td>\n",
       "            <td>4</td>\n",
       "        </tr>\n",
       "        <tr>\n",
       "            <td>1936</td>\n",
       "            <td>3</td>\n",
       "        </tr>\n",
       "        <tr>\n",
       "            <td>1937</td>\n",
       "            <td>2</td>\n",
       "        </tr>\n",
       "        <tr>\n",
       "            <td>1938</td>\n",
       "            <td>5</td>\n",
       "        </tr>\n",
       "        <tr>\n",
       "            <td>1939</td>\n",
       "            <td>6</td>\n",
       "        </tr>\n",
       "    </tbody>\n",
       "</table>\n",
       "<span style=\"font-style:italic;text-align:center;\">Truncated to <a href=\"https://jupysql.ploomber.io/en/latest/api/configuration.html#displaylimit\">displaylimit</a> of 20.</span>"
      ],
      "text/plain": [
       "+-----------+-------+\n",
       "| startYear | total |\n",
       "+-----------+-------+\n",
       "|    1915   |   1   |\n",
       "|    1920   |   1   |\n",
       "|    1921   |   1   |\n",
       "|    1922   |   1   |\n",
       "|    1924   |   1   |\n",
       "|    1925   |   2   |\n",
       "|    1926   |   1   |\n",
       "|    1927   |   2   |\n",
       "|    1928   |   2   |\n",
       "|    1929   |   1   |\n",
       "|    1930   |   1   |\n",
       "|    1931   |   5   |\n",
       "|    1932   |   3   |\n",
       "|    1933   |   3   |\n",
       "|    1934   |   2   |\n",
       "|    1935   |   4   |\n",
       "|    1936   |   3   |\n",
       "|    1937   |   2   |\n",
       "|    1938   |   5   |\n",
       "|    1939   |   6   |\n",
       "+-----------+-------+\n",
       "Truncated to displaylimit of 20."
      ]
     },
     "execution_count": 45,
     "metadata": {},
     "output_type": "execute_result"
    }
   ],
   "source": [
    "%%sql --save query_q1b\n",
    "\n",
    "SELECT startYear, COUNT(*) AS total\n",
    "FROM Title\n",
    "WHERE titleType = 'movie'\n",
    "GROUP BY startYear\n",
    "ORDER BY startYear ASC;\n"
   ]
  },
  {
   "cell_type": "code",
   "execution_count": 46,
   "id": "4ca8a646-be9a-48ca-bee0-62c242cc02a1",
   "metadata": {
    "deletable": false,
    "editable": false
   },
   "outputs": [],
   "source": [
    "# Run this cell for grading purposes. \n",
    "# No further action is required. \n",
    "query = %sqlcmd snippets query_q1b\n",
    "res_q1b = pd.read_sql(query, \"duckdb:///data/imdbmini.db\")"
   ]
  },
  {
   "cell_type": "code",
   "execution_count": 47,
   "id": "bda41831",
   "metadata": {
    "deletable": false,
    "editable": false
   },
   "outputs": [
    {
     "data": {
      "text/html": [
       "<p><strong><pre style='display: inline;'>q1b</pre></strong> passed! 🌟</p>"
      ],
      "text/plain": [
       "q1b results: All test cases passed!"
      ]
     },
     "execution_count": 47,
     "metadata": {},
     "output_type": "execute_result"
    }
   ],
   "source": [
    "grader.check(\"q1b\")"
   ]
  },
  {
   "cell_type": "markdown",
   "id": "705a55d7",
   "metadata": {},
   "source": [
    "<br/>\n",
    "\n",
    "The following cell should generate an interesting plot of the number of movies that premiered each year. Notice there are fewer movies premiering from the 1920s to the late 1940s. Why might that be? *This question is rhetorical; you do not need to write your answer anywhere.*"
   ]
  },
  {
   "cell_type": "code",
   "execution_count": 48,
   "id": "e0c37ce2",
   "metadata": {},
   "outputs": [
    {
     "data": {
      "application/vnd.plotly.v1+json": {
       "config": {
        "plotlyServerURL": "https://plot.ly"
       },
       "data": [
        {
         "alignmentgroup": "True",
         "hovertemplate": "startYear=%{x}<br>total=%{y}<extra></extra>",
         "legendgroup": "",
         "marker": {
          "color": "#636efa",
          "pattern": {
           "shape": ""
          }
         },
         "name": "",
         "offsetgroup": "",
         "orientation": "v",
         "showlegend": false,
         "textposition": "auto",
         "type": "bar",
         "x": [
          "1915",
          "1920",
          "1921",
          "1922",
          "1924",
          "1925",
          "1926",
          "1927",
          "1928",
          "1929",
          "1930",
          "1931",
          "1932",
          "1933",
          "1934",
          "1935",
          "1936",
          "1937",
          "1938",
          "1939",
          "1940",
          "1941",
          "1942",
          "1943",
          "1944",
          "1945",
          "1946",
          "1947",
          "1948",
          "1949",
          "1950",
          "1951",
          "1952",
          "1953",
          "1954",
          "1955",
          "1956",
          "1957",
          "1958",
          "1959",
          "1960",
          "1961",
          "1962",
          "1963",
          "1964",
          "1965",
          "1966",
          "1967",
          "1968",
          "1969",
          "1970",
          "1971",
          "1972",
          "1973",
          "1974",
          "1975",
          "1976",
          "1977",
          "1978",
          "1979",
          "1980",
          "1981",
          "1982",
          "1983",
          "1984",
          "1985",
          "1986",
          "1987",
          "1988",
          "1989",
          "1990",
          "1991",
          "1992",
          "1993",
          "1994",
          "1995",
          "1996",
          "1997",
          "1998",
          "1999",
          "2000",
          "2001",
          "2002",
          "2003",
          "2004",
          "2005",
          "2006",
          "2007",
          "2008",
          "2009",
          "2010",
          "2011",
          "2012",
          "2013",
          "2014",
          "2015",
          "2016",
          "2017",
          "2018",
          "2019",
          "2020",
          "2021"
         ],
         "xaxis": "x",
         "y": [
          1,
          1,
          1,
          1,
          1,
          2,
          1,
          2,
          2,
          1,
          1,
          5,
          3,
          3,
          2,
          4,
          3,
          2,
          5,
          6,
          8,
          8,
          7,
          2,
          6,
          5,
          11,
          4,
          6,
          4,
          7,
          10,
          5,
          13,
          13,
          14,
          11,
          12,
          10,
          10,
          13,
          13,
          18,
          16,
          13,
          7,
          14,
          16,
          19,
          11,
          15,
          25,
          22,
          29,
          19,
          22,
          24,
          23,
          22,
          31,
          30,
          35,
          40,
          33,
          46,
          62,
          57,
          60,
          66,
          69,
          70,
          62,
          81,
          98,
          89,
          108,
          103,
          113,
          123,
          118,
          129,
          152,
          167,
          163,
          184,
          191,
          222,
          224,
          219,
          226,
          211,
          231,
          213,
          241,
          254,
          218,
          227,
          213,
          230,
          194,
          117,
          85
         ],
         "yaxis": "y"
        }
       ],
       "layout": {
        "barmode": "relative",
        "height": 400,
        "legend": {
         "tracegroupgap": 0
        },
        "template": {
         "data": {
          "bar": [
           {
            "error_x": {
             "color": "#2a3f5f"
            },
            "error_y": {
             "color": "#2a3f5f"
            },
            "marker": {
             "line": {
              "color": "#E5ECF6",
              "width": 0.5
             },
             "pattern": {
              "fillmode": "overlay",
              "size": 10,
              "solidity": 0.2
             }
            },
            "type": "bar"
           }
          ],
          "barpolar": [
           {
            "marker": {
             "line": {
              "color": "#E5ECF6",
              "width": 0.5
             },
             "pattern": {
              "fillmode": "overlay",
              "size": 10,
              "solidity": 0.2
             }
            },
            "type": "barpolar"
           }
          ],
          "carpet": [
           {
            "aaxis": {
             "endlinecolor": "#2a3f5f",
             "gridcolor": "white",
             "linecolor": "white",
             "minorgridcolor": "white",
             "startlinecolor": "#2a3f5f"
            },
            "baxis": {
             "endlinecolor": "#2a3f5f",
             "gridcolor": "white",
             "linecolor": "white",
             "minorgridcolor": "white",
             "startlinecolor": "#2a3f5f"
            },
            "type": "carpet"
           }
          ],
          "choropleth": [
           {
            "colorbar": {
             "outlinewidth": 0,
             "ticks": ""
            },
            "type": "choropleth"
           }
          ],
          "contour": [
           {
            "colorbar": {
             "outlinewidth": 0,
             "ticks": ""
            },
            "colorscale": [
             [
              0,
              "#0d0887"
             ],
             [
              0.1111111111111111,
              "#46039f"
             ],
             [
              0.2222222222222222,
              "#7201a8"
             ],
             [
              0.3333333333333333,
              "#9c179e"
             ],
             [
              0.4444444444444444,
              "#bd3786"
             ],
             [
              0.5555555555555556,
              "#d8576b"
             ],
             [
              0.6666666666666666,
              "#ed7953"
             ],
             [
              0.7777777777777778,
              "#fb9f3a"
             ],
             [
              0.8888888888888888,
              "#fdca26"
             ],
             [
              1,
              "#f0f921"
             ]
            ],
            "type": "contour"
           }
          ],
          "contourcarpet": [
           {
            "colorbar": {
             "outlinewidth": 0,
             "ticks": ""
            },
            "type": "contourcarpet"
           }
          ],
          "heatmap": [
           {
            "colorbar": {
             "outlinewidth": 0,
             "ticks": ""
            },
            "colorscale": [
             [
              0,
              "#0d0887"
             ],
             [
              0.1111111111111111,
              "#46039f"
             ],
             [
              0.2222222222222222,
              "#7201a8"
             ],
             [
              0.3333333333333333,
              "#9c179e"
             ],
             [
              0.4444444444444444,
              "#bd3786"
             ],
             [
              0.5555555555555556,
              "#d8576b"
             ],
             [
              0.6666666666666666,
              "#ed7953"
             ],
             [
              0.7777777777777778,
              "#fb9f3a"
             ],
             [
              0.8888888888888888,
              "#fdca26"
             ],
             [
              1,
              "#f0f921"
             ]
            ],
            "type": "heatmap"
           }
          ],
          "heatmapgl": [
           {
            "colorbar": {
             "outlinewidth": 0,
             "ticks": ""
            },
            "colorscale": [
             [
              0,
              "#0d0887"
             ],
             [
              0.1111111111111111,
              "#46039f"
             ],
             [
              0.2222222222222222,
              "#7201a8"
             ],
             [
              0.3333333333333333,
              "#9c179e"
             ],
             [
              0.4444444444444444,
              "#bd3786"
             ],
             [
              0.5555555555555556,
              "#d8576b"
             ],
             [
              0.6666666666666666,
              "#ed7953"
             ],
             [
              0.7777777777777778,
              "#fb9f3a"
             ],
             [
              0.8888888888888888,
              "#fdca26"
             ],
             [
              1,
              "#f0f921"
             ]
            ],
            "type": "heatmapgl"
           }
          ],
          "histogram": [
           {
            "marker": {
             "pattern": {
              "fillmode": "overlay",
              "size": 10,
              "solidity": 0.2
             }
            },
            "type": "histogram"
           }
          ],
          "histogram2d": [
           {
            "colorbar": {
             "outlinewidth": 0,
             "ticks": ""
            },
            "colorscale": [
             [
              0,
              "#0d0887"
             ],
             [
              0.1111111111111111,
              "#46039f"
             ],
             [
              0.2222222222222222,
              "#7201a8"
             ],
             [
              0.3333333333333333,
              "#9c179e"
             ],
             [
              0.4444444444444444,
              "#bd3786"
             ],
             [
              0.5555555555555556,
              "#d8576b"
             ],
             [
              0.6666666666666666,
              "#ed7953"
             ],
             [
              0.7777777777777778,
              "#fb9f3a"
             ],
             [
              0.8888888888888888,
              "#fdca26"
             ],
             [
              1,
              "#f0f921"
             ]
            ],
            "type": "histogram2d"
           }
          ],
          "histogram2dcontour": [
           {
            "colorbar": {
             "outlinewidth": 0,
             "ticks": ""
            },
            "colorscale": [
             [
              0,
              "#0d0887"
             ],
             [
              0.1111111111111111,
              "#46039f"
             ],
             [
              0.2222222222222222,
              "#7201a8"
             ],
             [
              0.3333333333333333,
              "#9c179e"
             ],
             [
              0.4444444444444444,
              "#bd3786"
             ],
             [
              0.5555555555555556,
              "#d8576b"
             ],
             [
              0.6666666666666666,
              "#ed7953"
             ],
             [
              0.7777777777777778,
              "#fb9f3a"
             ],
             [
              0.8888888888888888,
              "#fdca26"
             ],
             [
              1,
              "#f0f921"
             ]
            ],
            "type": "histogram2dcontour"
           }
          ],
          "mesh3d": [
           {
            "colorbar": {
             "outlinewidth": 0,
             "ticks": ""
            },
            "type": "mesh3d"
           }
          ],
          "parcoords": [
           {
            "line": {
             "colorbar": {
              "outlinewidth": 0,
              "ticks": ""
             }
            },
            "type": "parcoords"
           }
          ],
          "pie": [
           {
            "automargin": true,
            "type": "pie"
           }
          ],
          "scatter": [
           {
            "fillpattern": {
             "fillmode": "overlay",
             "size": 10,
             "solidity": 0.2
            },
            "type": "scatter"
           }
          ],
          "scatter3d": [
           {
            "line": {
             "colorbar": {
              "outlinewidth": 0,
              "ticks": ""
             }
            },
            "marker": {
             "colorbar": {
              "outlinewidth": 0,
              "ticks": ""
             }
            },
            "type": "scatter3d"
           }
          ],
          "scattercarpet": [
           {
            "marker": {
             "colorbar": {
              "outlinewidth": 0,
              "ticks": ""
             }
            },
            "type": "scattercarpet"
           }
          ],
          "scattergeo": [
           {
            "marker": {
             "colorbar": {
              "outlinewidth": 0,
              "ticks": ""
             }
            },
            "type": "scattergeo"
           }
          ],
          "scattergl": [
           {
            "marker": {
             "colorbar": {
              "outlinewidth": 0,
              "ticks": ""
             }
            },
            "type": "scattergl"
           }
          ],
          "scattermapbox": [
           {
            "marker": {
             "colorbar": {
              "outlinewidth": 0,
              "ticks": ""
             }
            },
            "type": "scattermapbox"
           }
          ],
          "scatterpolar": [
           {
            "marker": {
             "colorbar": {
              "outlinewidth": 0,
              "ticks": ""
             }
            },
            "type": "scatterpolar"
           }
          ],
          "scatterpolargl": [
           {
            "marker": {
             "colorbar": {
              "outlinewidth": 0,
              "ticks": ""
             }
            },
            "type": "scatterpolargl"
           }
          ],
          "scatterternary": [
           {
            "marker": {
             "colorbar": {
              "outlinewidth": 0,
              "ticks": ""
             }
            },
            "type": "scatterternary"
           }
          ],
          "surface": [
           {
            "colorbar": {
             "outlinewidth": 0,
             "ticks": ""
            },
            "colorscale": [
             [
              0,
              "#0d0887"
             ],
             [
              0.1111111111111111,
              "#46039f"
             ],
             [
              0.2222222222222222,
              "#7201a8"
             ],
             [
              0.3333333333333333,
              "#9c179e"
             ],
             [
              0.4444444444444444,
              "#bd3786"
             ],
             [
              0.5555555555555556,
              "#d8576b"
             ],
             [
              0.6666666666666666,
              "#ed7953"
             ],
             [
              0.7777777777777778,
              "#fb9f3a"
             ],
             [
              0.8888888888888888,
              "#fdca26"
             ],
             [
              1,
              "#f0f921"
             ]
            ],
            "type": "surface"
           }
          ],
          "table": [
           {
            "cells": {
             "fill": {
              "color": "#EBF0F8"
             },
             "line": {
              "color": "white"
             }
            },
            "header": {
             "fill": {
              "color": "#C8D4E3"
             },
             "line": {
              "color": "white"
             }
            },
            "type": "table"
           }
          ]
         },
         "layout": {
          "annotationdefaults": {
           "arrowcolor": "#2a3f5f",
           "arrowhead": 0,
           "arrowwidth": 1
          },
          "autotypenumbers": "strict",
          "coloraxis": {
           "colorbar": {
            "outlinewidth": 0,
            "ticks": ""
           }
          },
          "colorscale": {
           "diverging": [
            [
             0,
             "#8e0152"
            ],
            [
             0.1,
             "#c51b7d"
            ],
            [
             0.2,
             "#de77ae"
            ],
            [
             0.3,
             "#f1b6da"
            ],
            [
             0.4,
             "#fde0ef"
            ],
            [
             0.5,
             "#f7f7f7"
            ],
            [
             0.6,
             "#e6f5d0"
            ],
            [
             0.7,
             "#b8e186"
            ],
            [
             0.8,
             "#7fbc41"
            ],
            [
             0.9,
             "#4d9221"
            ],
            [
             1,
             "#276419"
            ]
           ],
           "sequential": [
            [
             0,
             "#0d0887"
            ],
            [
             0.1111111111111111,
             "#46039f"
            ],
            [
             0.2222222222222222,
             "#7201a8"
            ],
            [
             0.3333333333333333,
             "#9c179e"
            ],
            [
             0.4444444444444444,
             "#bd3786"
            ],
            [
             0.5555555555555556,
             "#d8576b"
            ],
            [
             0.6666666666666666,
             "#ed7953"
            ],
            [
             0.7777777777777778,
             "#fb9f3a"
            ],
            [
             0.8888888888888888,
             "#fdca26"
            ],
            [
             1,
             "#f0f921"
            ]
           ],
           "sequentialminus": [
            [
             0,
             "#0d0887"
            ],
            [
             0.1111111111111111,
             "#46039f"
            ],
            [
             0.2222222222222222,
             "#7201a8"
            ],
            [
             0.3333333333333333,
             "#9c179e"
            ],
            [
             0.4444444444444444,
             "#bd3786"
            ],
            [
             0.5555555555555556,
             "#d8576b"
            ],
            [
             0.6666666666666666,
             "#ed7953"
            ],
            [
             0.7777777777777778,
             "#fb9f3a"
            ],
            [
             0.8888888888888888,
             "#fdca26"
            ],
            [
             1,
             "#f0f921"
            ]
           ]
          },
          "colorway": [
           "#636efa",
           "#EF553B",
           "#00cc96",
           "#ab63fa",
           "#FFA15A",
           "#19d3f3",
           "#FF6692",
           "#B6E880",
           "#FF97FF",
           "#FECB52"
          ],
          "font": {
           "color": "#2a3f5f"
          },
          "geo": {
           "bgcolor": "white",
           "lakecolor": "white",
           "landcolor": "#E5ECF6",
           "showlakes": true,
           "showland": true,
           "subunitcolor": "white"
          },
          "hoverlabel": {
           "align": "left"
          },
          "hovermode": "closest",
          "mapbox": {
           "style": "light"
          },
          "paper_bgcolor": "white",
          "plot_bgcolor": "#E5ECF6",
          "polar": {
           "angularaxis": {
            "gridcolor": "white",
            "linecolor": "white",
            "ticks": ""
           },
           "bgcolor": "#E5ECF6",
           "radialaxis": {
            "gridcolor": "white",
            "linecolor": "white",
            "ticks": ""
           }
          },
          "scene": {
           "xaxis": {
            "backgroundcolor": "#E5ECF6",
            "gridcolor": "white",
            "gridwidth": 2,
            "linecolor": "white",
            "showbackground": true,
            "ticks": "",
            "zerolinecolor": "white"
           },
           "yaxis": {
            "backgroundcolor": "#E5ECF6",
            "gridcolor": "white",
            "gridwidth": 2,
            "linecolor": "white",
            "showbackground": true,
            "ticks": "",
            "zerolinecolor": "white"
           },
           "zaxis": {
            "backgroundcolor": "#E5ECF6",
            "gridcolor": "white",
            "gridwidth": 2,
            "linecolor": "white",
            "showbackground": true,
            "ticks": "",
            "zerolinecolor": "white"
           }
          },
          "shapedefaults": {
           "line": {
            "color": "#2a3f5f"
           }
          },
          "ternary": {
           "aaxis": {
            "gridcolor": "white",
            "linecolor": "white",
            "ticks": ""
           },
           "baxis": {
            "gridcolor": "white",
            "linecolor": "white",
            "ticks": ""
           },
           "bgcolor": "#E5ECF6",
           "caxis": {
            "gridcolor": "white",
            "linecolor": "white",
            "ticks": ""
           }
          },
          "title": {
           "x": 0.05
          },
          "xaxis": {
           "automargin": true,
           "gridcolor": "white",
           "linecolor": "white",
           "ticks": "",
           "title": {
            "standoff": 15
           },
           "zerolinecolor": "white",
           "zerolinewidth": 2
          },
          "yaxis": {
           "automargin": true,
           "gridcolor": "white",
           "linecolor": "white",
           "ticks": "",
           "title": {
            "standoff": 15
           },
           "zerolinecolor": "white",
           "zerolinewidth": 2
          }
         }
        },
        "title": {
         "text": "Number of movies premiered each year"
        },
        "width": 900,
        "xaxis": {
         "anchor": "y",
         "domain": [
          0,
          1
         ],
         "title": {
          "text": "startYear"
         }
        },
        "yaxis": {
         "anchor": "x",
         "domain": [
          0,
          1
         ],
         "title": {
          "text": "total"
         }
        }
       }
      },
      "text/html": [
       "<div>                            <div id=\"bcfd0aa1-62b8-48db-9f08-b8ce67bf2c11\" class=\"plotly-graph-div\" style=\"height:400px; width:900px;\"></div>            <script type=\"text/javascript\">                require([\"plotly\"], function(Plotly) {                    window.PLOTLYENV=window.PLOTLYENV || {};                                    if (document.getElementById(\"bcfd0aa1-62b8-48db-9f08-b8ce67bf2c11\")) {                    Plotly.newPlot(                        \"bcfd0aa1-62b8-48db-9f08-b8ce67bf2c11\",                        [{\"alignmentgroup\":\"True\",\"hovertemplate\":\"startYear=%{x}<br>total=%{y}<extra></extra>\",\"legendgroup\":\"\",\"marker\":{\"color\":\"#636efa\",\"pattern\":{\"shape\":\"\"}},\"name\":\"\",\"offsetgroup\":\"\",\"orientation\":\"v\",\"showlegend\":false,\"textposition\":\"auto\",\"x\":[\"1915\",\"1920\",\"1921\",\"1922\",\"1924\",\"1925\",\"1926\",\"1927\",\"1928\",\"1929\",\"1930\",\"1931\",\"1932\",\"1933\",\"1934\",\"1935\",\"1936\",\"1937\",\"1938\",\"1939\",\"1940\",\"1941\",\"1942\",\"1943\",\"1944\",\"1945\",\"1946\",\"1947\",\"1948\",\"1949\",\"1950\",\"1951\",\"1952\",\"1953\",\"1954\",\"1955\",\"1956\",\"1957\",\"1958\",\"1959\",\"1960\",\"1961\",\"1962\",\"1963\",\"1964\",\"1965\",\"1966\",\"1967\",\"1968\",\"1969\",\"1970\",\"1971\",\"1972\",\"1973\",\"1974\",\"1975\",\"1976\",\"1977\",\"1978\",\"1979\",\"1980\",\"1981\",\"1982\",\"1983\",\"1984\",\"1985\",\"1986\",\"1987\",\"1988\",\"1989\",\"1990\",\"1991\",\"1992\",\"1993\",\"1994\",\"1995\",\"1996\",\"1997\",\"1998\",\"1999\",\"2000\",\"2001\",\"2002\",\"2003\",\"2004\",\"2005\",\"2006\",\"2007\",\"2008\",\"2009\",\"2010\",\"2011\",\"2012\",\"2013\",\"2014\",\"2015\",\"2016\",\"2017\",\"2018\",\"2019\",\"2020\",\"2021\"],\"xaxis\":\"x\",\"y\":[1,1,1,1,1,2,1,2,2,1,1,5,3,3,2,4,3,2,5,6,8,8,7,2,6,5,11,4,6,4,7,10,5,13,13,14,11,12,10,10,13,13,18,16,13,7,14,16,19,11,15,25,22,29,19,22,24,23,22,31,30,35,40,33,46,62,57,60,66,69,70,62,81,98,89,108,103,113,123,118,129,152,167,163,184,191,222,224,219,226,211,231,213,241,254,218,227,213,230,194,117,85],\"yaxis\":\"y\",\"type\":\"bar\"}],                        {\"template\":{\"data\":{\"histogram2dcontour\":[{\"type\":\"histogram2dcontour\",\"colorbar\":{\"outlinewidth\":0,\"ticks\":\"\"},\"colorscale\":[[0.0,\"#0d0887\"],[0.1111111111111111,\"#46039f\"],[0.2222222222222222,\"#7201a8\"],[0.3333333333333333,\"#9c179e\"],[0.4444444444444444,\"#bd3786\"],[0.5555555555555556,\"#d8576b\"],[0.6666666666666666,\"#ed7953\"],[0.7777777777777778,\"#fb9f3a\"],[0.8888888888888888,\"#fdca26\"],[1.0,\"#f0f921\"]]}],\"choropleth\":[{\"type\":\"choropleth\",\"colorbar\":{\"outlinewidth\":0,\"ticks\":\"\"}}],\"histogram2d\":[{\"type\":\"histogram2d\",\"colorbar\":{\"outlinewidth\":0,\"ticks\":\"\"},\"colorscale\":[[0.0,\"#0d0887\"],[0.1111111111111111,\"#46039f\"],[0.2222222222222222,\"#7201a8\"],[0.3333333333333333,\"#9c179e\"],[0.4444444444444444,\"#bd3786\"],[0.5555555555555556,\"#d8576b\"],[0.6666666666666666,\"#ed7953\"],[0.7777777777777778,\"#fb9f3a\"],[0.8888888888888888,\"#fdca26\"],[1.0,\"#f0f921\"]]}],\"heatmap\":[{\"type\":\"heatmap\",\"colorbar\":{\"outlinewidth\":0,\"ticks\":\"\"},\"colorscale\":[[0.0,\"#0d0887\"],[0.1111111111111111,\"#46039f\"],[0.2222222222222222,\"#7201a8\"],[0.3333333333333333,\"#9c179e\"],[0.4444444444444444,\"#bd3786\"],[0.5555555555555556,\"#d8576b\"],[0.6666666666666666,\"#ed7953\"],[0.7777777777777778,\"#fb9f3a\"],[0.8888888888888888,\"#fdca26\"],[1.0,\"#f0f921\"]]}],\"heatmapgl\":[{\"type\":\"heatmapgl\",\"colorbar\":{\"outlinewidth\":0,\"ticks\":\"\"},\"colorscale\":[[0.0,\"#0d0887\"],[0.1111111111111111,\"#46039f\"],[0.2222222222222222,\"#7201a8\"],[0.3333333333333333,\"#9c179e\"],[0.4444444444444444,\"#bd3786\"],[0.5555555555555556,\"#d8576b\"],[0.6666666666666666,\"#ed7953\"],[0.7777777777777778,\"#fb9f3a\"],[0.8888888888888888,\"#fdca26\"],[1.0,\"#f0f921\"]]}],\"contourcarpet\":[{\"type\":\"contourcarpet\",\"colorbar\":{\"outlinewidth\":0,\"ticks\":\"\"}}],\"contour\":[{\"type\":\"contour\",\"colorbar\":{\"outlinewidth\":0,\"ticks\":\"\"},\"colorscale\":[[0.0,\"#0d0887\"],[0.1111111111111111,\"#46039f\"],[0.2222222222222222,\"#7201a8\"],[0.3333333333333333,\"#9c179e\"],[0.4444444444444444,\"#bd3786\"],[0.5555555555555556,\"#d8576b\"],[0.6666666666666666,\"#ed7953\"],[0.7777777777777778,\"#fb9f3a\"],[0.8888888888888888,\"#fdca26\"],[1.0,\"#f0f921\"]]}],\"surface\":[{\"type\":\"surface\",\"colorbar\":{\"outlinewidth\":0,\"ticks\":\"\"},\"colorscale\":[[0.0,\"#0d0887\"],[0.1111111111111111,\"#46039f\"],[0.2222222222222222,\"#7201a8\"],[0.3333333333333333,\"#9c179e\"],[0.4444444444444444,\"#bd3786\"],[0.5555555555555556,\"#d8576b\"],[0.6666666666666666,\"#ed7953\"],[0.7777777777777778,\"#fb9f3a\"],[0.8888888888888888,\"#fdca26\"],[1.0,\"#f0f921\"]]}],\"mesh3d\":[{\"type\":\"mesh3d\",\"colorbar\":{\"outlinewidth\":0,\"ticks\":\"\"}}],\"scatter\":[{\"fillpattern\":{\"fillmode\":\"overlay\",\"size\":10,\"solidity\":0.2},\"type\":\"scatter\"}],\"parcoords\":[{\"type\":\"parcoords\",\"line\":{\"colorbar\":{\"outlinewidth\":0,\"ticks\":\"\"}}}],\"scatterpolargl\":[{\"type\":\"scatterpolargl\",\"marker\":{\"colorbar\":{\"outlinewidth\":0,\"ticks\":\"\"}}}],\"bar\":[{\"error_x\":{\"color\":\"#2a3f5f\"},\"error_y\":{\"color\":\"#2a3f5f\"},\"marker\":{\"line\":{\"color\":\"#E5ECF6\",\"width\":0.5},\"pattern\":{\"fillmode\":\"overlay\",\"size\":10,\"solidity\":0.2}},\"type\":\"bar\"}],\"scattergeo\":[{\"type\":\"scattergeo\",\"marker\":{\"colorbar\":{\"outlinewidth\":0,\"ticks\":\"\"}}}],\"scatterpolar\":[{\"type\":\"scatterpolar\",\"marker\":{\"colorbar\":{\"outlinewidth\":0,\"ticks\":\"\"}}}],\"histogram\":[{\"marker\":{\"pattern\":{\"fillmode\":\"overlay\",\"size\":10,\"solidity\":0.2}},\"type\":\"histogram\"}],\"scattergl\":[{\"type\":\"scattergl\",\"marker\":{\"colorbar\":{\"outlinewidth\":0,\"ticks\":\"\"}}}],\"scatter3d\":[{\"type\":\"scatter3d\",\"line\":{\"colorbar\":{\"outlinewidth\":0,\"ticks\":\"\"}},\"marker\":{\"colorbar\":{\"outlinewidth\":0,\"ticks\":\"\"}}}],\"scattermapbox\":[{\"type\":\"scattermapbox\",\"marker\":{\"colorbar\":{\"outlinewidth\":0,\"ticks\":\"\"}}}],\"scatterternary\":[{\"type\":\"scatterternary\",\"marker\":{\"colorbar\":{\"outlinewidth\":0,\"ticks\":\"\"}}}],\"scattercarpet\":[{\"type\":\"scattercarpet\",\"marker\":{\"colorbar\":{\"outlinewidth\":0,\"ticks\":\"\"}}}],\"carpet\":[{\"aaxis\":{\"endlinecolor\":\"#2a3f5f\",\"gridcolor\":\"white\",\"linecolor\":\"white\",\"minorgridcolor\":\"white\",\"startlinecolor\":\"#2a3f5f\"},\"baxis\":{\"endlinecolor\":\"#2a3f5f\",\"gridcolor\":\"white\",\"linecolor\":\"white\",\"minorgridcolor\":\"white\",\"startlinecolor\":\"#2a3f5f\"},\"type\":\"carpet\"}],\"table\":[{\"cells\":{\"fill\":{\"color\":\"#EBF0F8\"},\"line\":{\"color\":\"white\"}},\"header\":{\"fill\":{\"color\":\"#C8D4E3\"},\"line\":{\"color\":\"white\"}},\"type\":\"table\"}],\"barpolar\":[{\"marker\":{\"line\":{\"color\":\"#E5ECF6\",\"width\":0.5},\"pattern\":{\"fillmode\":\"overlay\",\"size\":10,\"solidity\":0.2}},\"type\":\"barpolar\"}],\"pie\":[{\"automargin\":true,\"type\":\"pie\"}]},\"layout\":{\"autotypenumbers\":\"strict\",\"colorway\":[\"#636efa\",\"#EF553B\",\"#00cc96\",\"#ab63fa\",\"#FFA15A\",\"#19d3f3\",\"#FF6692\",\"#B6E880\",\"#FF97FF\",\"#FECB52\"],\"font\":{\"color\":\"#2a3f5f\"},\"hovermode\":\"closest\",\"hoverlabel\":{\"align\":\"left\"},\"paper_bgcolor\":\"white\",\"plot_bgcolor\":\"#E5ECF6\",\"polar\":{\"bgcolor\":\"#E5ECF6\",\"angularaxis\":{\"gridcolor\":\"white\",\"linecolor\":\"white\",\"ticks\":\"\"},\"radialaxis\":{\"gridcolor\":\"white\",\"linecolor\":\"white\",\"ticks\":\"\"}},\"ternary\":{\"bgcolor\":\"#E5ECF6\",\"aaxis\":{\"gridcolor\":\"white\",\"linecolor\":\"white\",\"ticks\":\"\"},\"baxis\":{\"gridcolor\":\"white\",\"linecolor\":\"white\",\"ticks\":\"\"},\"caxis\":{\"gridcolor\":\"white\",\"linecolor\":\"white\",\"ticks\":\"\"}},\"coloraxis\":{\"colorbar\":{\"outlinewidth\":0,\"ticks\":\"\"}},\"colorscale\":{\"sequential\":[[0.0,\"#0d0887\"],[0.1111111111111111,\"#46039f\"],[0.2222222222222222,\"#7201a8\"],[0.3333333333333333,\"#9c179e\"],[0.4444444444444444,\"#bd3786\"],[0.5555555555555556,\"#d8576b\"],[0.6666666666666666,\"#ed7953\"],[0.7777777777777778,\"#fb9f3a\"],[0.8888888888888888,\"#fdca26\"],[1.0,\"#f0f921\"]],\"sequentialminus\":[[0.0,\"#0d0887\"],[0.1111111111111111,\"#46039f\"],[0.2222222222222222,\"#7201a8\"],[0.3333333333333333,\"#9c179e\"],[0.4444444444444444,\"#bd3786\"],[0.5555555555555556,\"#d8576b\"],[0.6666666666666666,\"#ed7953\"],[0.7777777777777778,\"#fb9f3a\"],[0.8888888888888888,\"#fdca26\"],[1.0,\"#f0f921\"]],\"diverging\":[[0,\"#8e0152\"],[0.1,\"#c51b7d\"],[0.2,\"#de77ae\"],[0.3,\"#f1b6da\"],[0.4,\"#fde0ef\"],[0.5,\"#f7f7f7\"],[0.6,\"#e6f5d0\"],[0.7,\"#b8e186\"],[0.8,\"#7fbc41\"],[0.9,\"#4d9221\"],[1,\"#276419\"]]},\"xaxis\":{\"gridcolor\":\"white\",\"linecolor\":\"white\",\"ticks\":\"\",\"title\":{\"standoff\":15},\"zerolinecolor\":\"white\",\"automargin\":true,\"zerolinewidth\":2},\"yaxis\":{\"gridcolor\":\"white\",\"linecolor\":\"white\",\"ticks\":\"\",\"title\":{\"standoff\":15},\"zerolinecolor\":\"white\",\"automargin\":true,\"zerolinewidth\":2},\"scene\":{\"xaxis\":{\"backgroundcolor\":\"#E5ECF6\",\"gridcolor\":\"white\",\"linecolor\":\"white\",\"showbackground\":true,\"ticks\":\"\",\"zerolinecolor\":\"white\",\"gridwidth\":2},\"yaxis\":{\"backgroundcolor\":\"#E5ECF6\",\"gridcolor\":\"white\",\"linecolor\":\"white\",\"showbackground\":true,\"ticks\":\"\",\"zerolinecolor\":\"white\",\"gridwidth\":2},\"zaxis\":{\"backgroundcolor\":\"#E5ECF6\",\"gridcolor\":\"white\",\"linecolor\":\"white\",\"showbackground\":true,\"ticks\":\"\",\"zerolinecolor\":\"white\",\"gridwidth\":2}},\"shapedefaults\":{\"line\":{\"color\":\"#2a3f5f\"}},\"annotationdefaults\":{\"arrowcolor\":\"#2a3f5f\",\"arrowhead\":0,\"arrowwidth\":1},\"geo\":{\"bgcolor\":\"white\",\"landcolor\":\"#E5ECF6\",\"subunitcolor\":\"white\",\"showland\":true,\"showlakes\":true,\"lakecolor\":\"white\"},\"title\":{\"x\":0.05},\"mapbox\":{\"style\":\"light\"}}},\"xaxis\":{\"anchor\":\"y\",\"domain\":[0.0,1.0],\"title\":{\"text\":\"startYear\"}},\"yaxis\":{\"anchor\":\"x\",\"domain\":[0.0,1.0],\"title\":{\"text\":\"total\"}},\"legend\":{\"tracegroupgap\":0},\"title\":{\"text\":\"Number of movies premiered each year\"},\"barmode\":\"relative\",\"height\":400,\"width\":900},                        {\"responsive\": true}                    ).then(function(){\n",
       "                            \n",
       "var gd = document.getElementById('bcfd0aa1-62b8-48db-9f08-b8ce67bf2c11');\n",
       "var x = new MutationObserver(function (mutations, observer) {{\n",
       "        var display = window.getComputedStyle(gd).display;\n",
       "        if (!display || display === 'none') {{\n",
       "            console.log([gd, 'removed!']);\n",
       "            Plotly.purge(gd);\n",
       "            observer.disconnect();\n",
       "        }}\n",
       "}});\n",
       "\n",
       "// Listen for the removal of the full notebook cells\n",
       "var notebookContainer = gd.closest('#notebook-container');\n",
       "if (notebookContainer) {{\n",
       "    x.observe(notebookContainer, {childList: true});\n",
       "}}\n",
       "\n",
       "// Listen for the clearing of the current output cell\n",
       "var outputEl = gd.closest('.output');\n",
       "if (outputEl) {{\n",
       "    x.observe(outputEl, {childList: true});\n",
       "}}\n",
       "\n",
       "                        })                };                });            </script>        </div>"
      ]
     },
     "metadata": {},
     "output_type": "display_data"
    }
   ],
   "source": [
    "# Run this call to generate the bar plot; no further action is needed\n",
    "px.bar(res_q1b, x=\"startYear\", y=\"total\", \n",
    "        title=\"Number of movies premiered each year\", \n",
    "        width=900, height=400)"
   ]
  },
  {
   "cell_type": "markdown",
   "id": "6965b1a4",
   "metadata": {
    "deletable": false,
    "editable": false
   },
   "source": [
    "<br/>\n",
    "\n",
    "---\n",
    "\n",
    "## Question 2\n",
    "\n",
    "Write a SQL query to determine the movie producers with the highest average ratings across all of their movies. The term **\"movie actor\"** is defined as anyone with an `\"actor\"` or `\"actress\"` job category role in a `\"movie\"` title type released after 1980.\n",
    "\n",
    "Your SQL query should output exactly two fields named `name` (the movie actor's name) and `total` (the number of movies the movie actor appears in). Order the records by `total` in **descending** order, and break ties by ordering by `name` in **ascending** order.\n",
    "\n",
    "Your result should look something like this (but without `????`):\n",
    "\n",
    "| name | total |\n",
    "|-----:|-----:|\n",
    "| ???? | 58 |\n",
    "| ???? | 54 |\n",
    "| ???? | 53 |\n",
    "| ???? | 49 |\n",
    "| ???? | 46 |\n",
    "| ???? | 43 |\n",
    "| ???? | 41 |\n",
    "| ???? | 40 |\n",
    "| ???? | 40 |\n",
    "| ???? | 39 |\n",
    "\n",
    "**Notes**: \n",
    "* **The query should take < 2 minutes to run.**\n",
    "* Sometimes Python gets confused and colors some SQL queries red; *don't worry if the SQL coloring doesn't match what you'd expect*. As long as it runs, it's fine.\n",
    "\n",
    "**Hints**:\n",
    "\n",
    "* Before writing your query, you may wish to review the table descriptions given at the start of the assignment to determine where the information you need is stored\n",
    "* If you want to include a non-aggregate field in the `SELECT` clause, it must also be included in the `GROUP BY` clause.\n",
    "* When using multiple conditions in a `WHERE` clause, pay attention to the order of operations."
   ]
  },
  {
   "cell_type": "code",
   "execution_count": 49,
   "id": "679b382c-3e52-4420-8866-74350f3da970",
   "metadata": {
    "tags": [
     "otter_answer_cell"
    ]
   },
   "outputs": [
    {
     "data": {
      "text/html": [
       "<span style=\"None\">Running query in &#x27;duckdb:///data/imdbmini.db&#x27;</span>"
      ],
      "text/plain": [
       "Running query in 'duckdb:///data/imdbmini.db'"
      ]
     },
     "metadata": {},
     "output_type": "display_data"
    },
    {
     "data": {
      "text/html": [
       "<table>\n",
       "    <thead>\n",
       "        <tr>\n",
       "            <th>name</th>\n",
       "            <th>total</th>\n",
       "        </tr>\n",
       "    </thead>\n",
       "    <tbody>\n",
       "        <tr>\n",
       "            <td>Robert De Niro</td>\n",
       "            <td>58</td>\n",
       "        </tr>\n",
       "        <tr>\n",
       "            <td>Samuel L. Jackson</td>\n",
       "            <td>54</td>\n",
       "        </tr>\n",
       "        <tr>\n",
       "            <td>Nicolas Cage</td>\n",
       "            <td>53</td>\n",
       "        </tr>\n",
       "        <tr>\n",
       "            <td>Bruce Willis</td>\n",
       "            <td>49</td>\n",
       "        </tr>\n",
       "        <tr>\n",
       "            <td>Tom Hanks</td>\n",
       "            <td>46</td>\n",
       "        </tr>\n",
       "        <tr>\n",
       "            <td>Johnny Depp</td>\n",
       "            <td>43</td>\n",
       "        </tr>\n",
       "        <tr>\n",
       "            <td>Mark Wahlberg</td>\n",
       "            <td>41</td>\n",
       "        </tr>\n",
       "        <tr>\n",
       "            <td>Liam Neeson</td>\n",
       "            <td>40</td>\n",
       "        </tr>\n",
       "        <tr>\n",
       "            <td>Morgan Freeman</td>\n",
       "            <td>40</td>\n",
       "        </tr>\n",
       "        <tr>\n",
       "            <td>Adam Sandler</td>\n",
       "            <td>39</td>\n",
       "        </tr>\n",
       "    </tbody>\n",
       "</table>"
      ],
      "text/plain": [
       "+-------------------+-------+\n",
       "|        name       | total |\n",
       "+-------------------+-------+\n",
       "|   Robert De Niro  |   58  |\n",
       "| Samuel L. Jackson |   54  |\n",
       "|    Nicolas Cage   |   53  |\n",
       "|    Bruce Willis   |   49  |\n",
       "|     Tom Hanks     |   46  |\n",
       "|    Johnny Depp    |   43  |\n",
       "|   Mark Wahlberg   |   41  |\n",
       "|    Liam Neeson    |   40  |\n",
       "|   Morgan Freeman  |   40  |\n",
       "|    Adam Sandler   |   39  |\n",
       "+-------------------+-------+"
      ]
     },
     "execution_count": 49,
     "metadata": {},
     "output_type": "execute_result"
    }
   ],
   "source": [
    "%%sql --save query_q2\n",
    "SELECT \n",
    "    n.primaryName AS name,\n",
    "    COUNT(*) AS total\n",
    "FROM \n",
    "    Name AS n\n",
    "JOIN \n",
    "    Role AS r ON n.nconst = r.nconst\n",
    "JOIN \n",
    "    Title AS t ON r.tconst = t.tconst\n",
    "WHERE \n",
    "    r.category IN ('actor', 'actress')\n",
    "    AND t.titleType = 'movie'\n",
    "    AND CAST(t.startYear AS INT) > 1980\n",
    "GROUP BY \n",
    "    n.primaryName\n",
    "ORDER BY \n",
    "    total DESC,\n",
    "    name ASC\n",
    "LIMIT 10;\n",
    "\n"
   ]
  },
  {
   "cell_type": "code",
   "execution_count": 50,
   "id": "363dcbd1-0fef-47ff-9aa9-dd4b2bb4beca",
   "metadata": {
    "deletable": false,
    "editable": false
   },
   "outputs": [],
   "source": [
    "# Run this cell for grading purposes. \n",
    "# No further action is required. \n",
    "query = %sqlcmd snippets query_q2\n",
    "res_q2 = pd.read_sql(query, \"duckdb:///data/imdbmini.db\")"
   ]
  },
  {
   "cell_type": "code",
   "execution_count": 51,
   "id": "3788be1b",
   "metadata": {
    "deletable": false,
    "editable": false
   },
   "outputs": [
    {
     "data": {
      "text/html": [
       "<p><strong><pre style='display: inline;'>q2</pre></strong> passed! 🍀</p>"
      ],
      "text/plain": [
       "q2 results: All test cases passed!"
      ]
     },
     "execution_count": 51,
     "metadata": {},
     "output_type": "execute_result"
    }
   ],
   "source": [
    "grader.check(\"q2\")"
   ]
  },
  {
   "cell_type": "markdown",
   "id": "cc8cb744",
   "metadata": {
    "deletable": false,
    "editable": false
   },
   "source": [
    "<br/>\n",
    "\n",
    "---\n",
    "\n",
    "## Question 3: The `CASE` Keyword\n",
    "\n",
    "The `rating` table has the `numVotes` and the `averageRating` for each title. A movie is considered a **\"big hit**\" if there are more than 100,000 votes for the movie. Which `movie` titles were **\"big hits\"**? Construct a query that generates the following result:\n",
    "\n",
    "| isBigHit | total |\n",
    "|-----:|-----|\n",
    "| no | ???? |\n",
    "| yes | ???? |\n",
    "\n",
    "Where `????` is replaced with the correct values. The row with `no` should have the count for how many movies **are not** big hits, and the row with `yes` should have the count of how many movies **are** big hits.\n",
    "\n",
    "**Hints**:\n",
    "\n",
    "* Check the data types of `numVotes` before performing any arithmetic operations.\n",
    "* You will need to use some type of `JOIN`.\n",
    "* You may also consider using a `CASE` statement:\n",
    "    ```\n",
    "    CASE \n",
    "        WHEN ... THEN ...\n",
    "        ELSE ... \n",
    "    END\n",
    "    ```\n",
    "    </br>\n",
    "    \n",
    "  `CASE` statements are the SQL equivalent of `Python` `if... elif... else` statements. To read up on `CASE`, take a look at the following links:\n",
    "    - https://mode.com/sql-tutorial/sql-case/\n",
    "    - https://www.w3schools.com/sql/sql_ref_case.asp\n"
   ]
  },
  {
   "cell_type": "code",
   "execution_count": 52,
   "id": "d7a674c4-53db-4e04-a8f6-ccb18da3a283",
   "metadata": {
    "tags": [
     "otter_answer_cell"
    ]
   },
   "outputs": [
    {
     "data": {
      "text/html": [
       "<span style=\"None\">Running query in &#x27;duckdb:///data/imdbmini.db&#x27;</span>"
      ],
      "text/plain": [
       "Running query in 'duckdb:///data/imdbmini.db'"
      ]
     },
     "metadata": {},
     "output_type": "display_data"
    },
    {
     "data": {
      "text/html": [
       "<table>\n",
       "    <thead>\n",
       "        <tr>\n",
       "            <th>isBigHit</th>\n",
       "            <th>total</th>\n",
       "        </tr>\n",
       "    </thead>\n",
       "    <tbody>\n",
       "        <tr>\n",
       "            <td>no</td>\n",
       "            <td>4318</td>\n",
       "        </tr>\n",
       "        <tr>\n",
       "            <td>yes</td>\n",
       "            <td>2041</td>\n",
       "        </tr>\n",
       "    </tbody>\n",
       "</table>"
      ],
      "text/plain": [
       "+----------+-------+\n",
       "| isBigHit | total |\n",
       "+----------+-------+\n",
       "|    no    |  4318 |\n",
       "|   yes    |  2041 |\n",
       "+----------+-------+"
      ]
     },
     "execution_count": 52,
     "metadata": {},
     "output_type": "execute_result"
    }
   ],
   "source": [
    "%%sql --save query_q3\n",
    "\n",
    "SELECT\n",
    "    CASE \n",
    "        WHEN CAST(r.numVotes AS INT) > 100000 THEN 'yes'\n",
    "        ELSE 'no'\n",
    "    END AS isBigHit,\n",
    "    COUNT(*) AS total\n",
    "FROM \n",
    "    Title AS t\n",
    "JOIN \n",
    "    Rating AS r ON t.tconst = r.tconst\n",
    "WHERE \n",
    "    t.titleType = 'movie'\n",
    "GROUP BY \n",
    "    isBigHit\n",
    "ORDER BY \n",
    "    isBigHit ASC;\n"
   ]
  },
  {
   "cell_type": "code",
   "execution_count": 53,
   "id": "4fef4532-140b-4910-a67a-14e8bcae3cd2",
   "metadata": {
    "deletable": false,
    "editable": false
   },
   "outputs": [],
   "source": [
    "# Run this cell for grading purposes. \n",
    "# No further action is required. \n",
    "query = %sqlcmd snippets query_q3\n",
    "res_q3 = pd.read_sql(query, \"duckdb:///data/imdbmini.db\")"
   ]
  },
  {
   "cell_type": "code",
   "execution_count": 54,
   "id": "f99dbc3b",
   "metadata": {
    "deletable": false,
    "editable": false
   },
   "outputs": [
    {
     "data": {
      "text/html": [
       "<p><strong><pre style='display: inline;'>q3</pre></strong> passed! 🍀</p>"
      ],
      "text/plain": [
       "q3 results: All test cases passed!"
      ]
     },
     "execution_count": 54,
     "metadata": {},
     "output_type": "execute_result"
    }
   ],
   "source": [
    "grader.check(\"q3\")"
   ]
  },
  {
   "cell_type": "markdown",
   "id": "8780081d",
   "metadata": {
    "deletable": false,
    "editable": false
   },
   "source": [
    "<br/>\n",
    "\n",
    "---\n",
    "\n",
    "## Question 4\n",
    "\n",
    "Let's compute the average runtime and average rating for `movie` titles by release year and examine how they evolve to see how the movie runtimes and ratings have changed over time.\n",
    "\n",
    "### Question 4a\n",
    "\n",
    "We will group movies by their release year (`startYear`). For each year, compute:\n",
    "- the **average runtime** of all movies (as `avgRuntime`)\n",
    "- the **average IMDb rating** (as `avgRating`)\n",
    "\n",
    "Construct a query that generates a table containing the `startYear`, `avgRuntime`, and `avgRating`. Only include movies with **at least 25,000 votes**. Order the final results by the value of `startYear` in ascending order.\n",
    "\n",
    "**Hints**:  \n",
    "* Like in previous questions, we are only focusing on **movies**.\n",
    "* Check the data types of `runtimeMinutes`, `averageRating`, and `startYear` before performing any arithmetic operations — you should `CAST` them to `int`, `float`, and `int` respectively.\n",
    "* You may define computed columns (e.g., `avgRuntime`) in your `SELECT` clause and reference them in the output.\n",
    "\n",
    "**Note**: DO NOT cast `averageRating` as an integer. Doing so reduces the precision of the resulting values. See the hint above for what you should cast instead!"
   ]
  },
  {
   "cell_type": "code",
   "execution_count": 55,
   "id": "99253f53-2474-43d5-9aec-7de22a743567",
   "metadata": {
    "tags": [
     "otter_answer_cell"
    ]
   },
   "outputs": [
    {
     "data": {
      "text/html": [
       "<span style=\"None\">Running query in &#x27;duckdb:///data/imdbmini.db&#x27;</span>"
      ],
      "text/plain": [
       "Running query in 'duckdb:///data/imdbmini.db'"
      ]
     },
     "metadata": {},
     "output_type": "display_data"
    },
    {
     "data": {
      "text/html": [
       "<table>\n",
       "    <thead>\n",
       "        <tr>\n",
       "            <th>startYear</th>\n",
       "            <th>avgRuntime</th>\n",
       "            <th>avgRating</th>\n",
       "        </tr>\n",
       "    </thead>\n",
       "    <tbody>\n",
       "        <tr>\n",
       "            <td>1920</td>\n",
       "            <td>76.0</td>\n",
       "            <td>8.100000381469727</td>\n",
       "        </tr>\n",
       "        <tr>\n",
       "            <td>1921</td>\n",
       "            <td>68.0</td>\n",
       "            <td>8.300000190734863</td>\n",
       "        </tr>\n",
       "        <tr>\n",
       "            <td>1922</td>\n",
       "            <td>94.0</td>\n",
       "            <td>7.900000095367432</td>\n",
       "        </tr>\n",
       "        <tr>\n",
       "            <td>1924</td>\n",
       "            <td>45.0</td>\n",
       "            <td>8.199999809265137</td>\n",
       "        </tr>\n",
       "        <tr>\n",
       "            <td>1925</td>\n",
       "            <td>85.0</td>\n",
       "            <td>8.099999904632568</td>\n",
       "        </tr>\n",
       "        <tr>\n",
       "            <td>1926</td>\n",
       "            <td>67.0</td>\n",
       "            <td>8.100000381469727</td>\n",
       "        </tr>\n",
       "        <tr>\n",
       "            <td>1927</td>\n",
       "            <td>123.5</td>\n",
       "            <td>8.200000286102295</td>\n",
       "        </tr>\n",
       "        <tr>\n",
       "            <td>1928</td>\n",
       "            <td>91.0</td>\n",
       "            <td>8.100000381469727</td>\n",
       "        </tr>\n",
       "        <tr>\n",
       "            <td>1930</td>\n",
       "            <td>152.0</td>\n",
       "            <td>8.100000381469727</td>\n",
       "        </tr>\n",
       "        <tr>\n",
       "            <td>1931</td>\n",
       "            <td>87.25</td>\n",
       "            <td>8.025000095367432</td>\n",
       "        </tr>\n",
       "        <tr>\n",
       "            <td>1932</td>\n",
       "            <td>78.5</td>\n",
       "            <td>7.8500001430511475</td>\n",
       "        </tr>\n",
       "        <tr>\n",
       "            <td>1933</td>\n",
       "            <td>80.0</td>\n",
       "            <td>7.800000031789144</td>\n",
       "        </tr>\n",
       "        <tr>\n",
       "            <td>1934</td>\n",
       "            <td>98.0</td>\n",
       "            <td>8.050000190734863</td>\n",
       "        </tr>\n",
       "        <tr>\n",
       "            <td>1935</td>\n",
       "            <td>85.66666666666667</td>\n",
       "            <td>7.766666730244954</td>\n",
       "        </tr>\n",
       "        <tr>\n",
       "            <td>1936</td>\n",
       "            <td>87.0</td>\n",
       "            <td>8.5</td>\n",
       "        </tr>\n",
       "        <tr>\n",
       "            <td>1937</td>\n",
       "            <td>98.0</td>\n",
       "            <td>7.8500001430511475</td>\n",
       "        </tr>\n",
       "        <tr>\n",
       "            <td>1938</td>\n",
       "            <td>100.0</td>\n",
       "            <td>7.866666793823242</td>\n",
       "        </tr>\n",
       "        <tr>\n",
       "            <td>1939</td>\n",
       "            <td>135.0</td>\n",
       "            <td>8.020000171661376</td>\n",
       "        </tr>\n",
       "        <tr>\n",
       "            <td>1940</td>\n",
       "            <td>112.5</td>\n",
       "            <td>7.950000107288361</td>\n",
       "        </tr>\n",
       "        <tr>\n",
       "            <td>1941</td>\n",
       "            <td>90.33333333333333</td>\n",
       "            <td>7.683333396911621</td>\n",
       "        </tr>\n",
       "    </tbody>\n",
       "</table>\n",
       "<span style=\"font-style:italic;text-align:center;\">Truncated to <a href=\"https://jupysql.ploomber.io/en/latest/api/configuration.html#displaylimit\">displaylimit</a> of 20.</span>"
      ],
      "text/plain": [
       "+-----------+-------------------+--------------------+\n",
       "| startYear |     avgRuntime    |     avgRating      |\n",
       "+-----------+-------------------+--------------------+\n",
       "|    1920   |        76.0       | 8.100000381469727  |\n",
       "|    1921   |        68.0       | 8.300000190734863  |\n",
       "|    1922   |        94.0       | 7.900000095367432  |\n",
       "|    1924   |        45.0       | 8.199999809265137  |\n",
       "|    1925   |        85.0       | 8.099999904632568  |\n",
       "|    1926   |        67.0       | 8.100000381469727  |\n",
       "|    1927   |       123.5       | 8.200000286102295  |\n",
       "|    1928   |        91.0       | 8.100000381469727  |\n",
       "|    1930   |       152.0       | 8.100000381469727  |\n",
       "|    1931   |       87.25       | 8.025000095367432  |\n",
       "|    1932   |        78.5       | 7.8500001430511475 |\n",
       "|    1933   |        80.0       | 7.800000031789144  |\n",
       "|    1934   |        98.0       | 8.050000190734863  |\n",
       "|    1935   | 85.66666666666667 | 7.766666730244954  |\n",
       "|    1936   |        87.0       |        8.5         |\n",
       "|    1937   |        98.0       | 7.8500001430511475 |\n",
       "|    1938   |       100.0       | 7.866666793823242  |\n",
       "|    1939   |       135.0       | 8.020000171661376  |\n",
       "|    1940   |       112.5       | 7.950000107288361  |\n",
       "|    1941   | 90.33333333333333 | 7.683333396911621  |\n",
       "+-----------+-------------------+--------------------+\n",
       "Truncated to displaylimit of 20."
      ]
     },
     "execution_count": 55,
     "metadata": {},
     "output_type": "execute_result"
    }
   ],
   "source": [
    "%%sql --save query_q4a\n",
    "\n",
    "SELECT\n",
    "    CAST(t.startYear AS INT) AS startYear,\n",
    "    AVG(CAST(t.runtimeMinutes AS FLOAT)) AS avgRuntime,\n",
    "    AVG(CAST(r.averageRating AS FLOAT)) AS avgRating\n",
    "FROM \n",
    "    Title AS t\n",
    "JOIN \n",
    "    Rating AS r ON t.tconst = r.tconst\n",
    "WHERE \n",
    "    t.titleType = 'movie'\n",
    "    AND CAST(r.numVotes AS INT) >= 25000\n",
    "    AND t.startYear != '\\N'\n",
    "    AND t.runtimeMinutes != '\\N'\n",
    "GROUP BY \n",
    "    CAST(t.startYear AS INT)\n",
    "ORDER BY \n",
    "    startYear ASC;\n"
   ]
  },
  {
   "cell_type": "code",
   "execution_count": 56,
   "id": "d8aa34ac-9e17-45ab-a869-2312c3849afa",
   "metadata": {
    "deletable": false,
    "editable": false
   },
   "outputs": [],
   "source": [
    "# Run this cell for grading purposes. \n",
    "# No further action is required. \n",
    "query = %sqlcmd snippets query_q4a\n",
    "res_q4a = pd.read_sql(query, \"duckdb:///data/imdbmini.db\")"
   ]
  },
  {
   "cell_type": "code",
   "execution_count": 57,
   "id": "5f9ed8ea",
   "metadata": {
    "deletable": false,
    "editable": false
   },
   "outputs": [
    {
     "data": {
      "text/html": [
       "<p><strong><pre style='display: inline;'>q4a</pre></strong> passed! ✨</p>"
      ],
      "text/plain": [
       "q4a results: All test cases passed!"
      ]
     },
     "execution_count": 57,
     "metadata": {},
     "output_type": "execute_result"
    }
   ],
   "source": [
    "grader.check(\"q4a\")"
   ]
  },
  {
   "cell_type": "markdown",
   "id": "12f9f554-91c4-4de9-90c2-4ea0e2b5d54f",
   "metadata": {
    "deletable": false,
    "editable": false
   },
   "source": [
    "<!-- BEGIN QUESTION -->\n",
    "\n",
    "<br>\n",
    "\n",
    "---\n",
    "\n",
    "### Question 4b\n",
    "\n",
    "Create two line plots below. The first should show how the **average movie runtime** has changed over time; the second should show how the **average movie rating** has changed over time. The x-axis should be `startYear` for both plots. Use the columns from the table generated in the previous part, `res_q4a`.\n",
    "\n",
    "**Notes**:\n",
    "* Please use `sns` or `plt` functions for plotting.\n",
    "* Please include descriptive titles and labels.\n",
    "* If your plot does not show up in the generated PDF, please upload a PDF with a screenshot of your code and the plot."
   ]
  },
  {
   "cell_type": "code",
   "execution_count": 58,
   "id": "a8f615c8-2799-48be-b7d0-86b930283015",
   "metadata": {
    "tags": [
     "otter_answer_cell"
    ]
   },
   "outputs": [
    {
     "data": {
      "image/png": "[encoded data removed]",
      "text/plain": [
       "<Figure size 1200x500 with 2 Axes>"
      ]
     },
     "metadata": {},
     "output_type": "display_data"
    }
   ],
   "source": [
    "plt.figure(figsize=(12, 5))\n",
    "\n",
    "# First subplot: Average Runtime\n",
    "plt.subplot(1, 2, 1)  # DO NOT MODIFY THIS LINE\n",
    "plt.plot(res_q4a['startYear'], res_q4a['avgRuntime'], marker='o')\n",
    "plt.title('Average Movie Runtime Over Years')\n",
    "plt.xlabel('Release Year')\n",
    "plt.ylabel('Average Runtime (minutes)')\n",
    "plt.grid(True)\n",
    "\n",
    "# Second subplot: Average Rating\n",
    "plt.subplot(1, 2, 2)  # DO NOT MODIFY THIS LINE\n",
    "plt.plot(res_q4a['startYear'], res_q4a['avgRating'], marker='o', color='green')\n",
    "plt.title('Average Movie Rating Over Years')\n",
    "plt.xlabel('Release Year')\n",
    "plt.ylabel('Average IMDb Rating')\n",
    "plt.grid(True)\n",
    "\n",
    "plt.tight_layout()"
   ]
  },
  {
   "cell_type": "markdown",
   "id": "a24470b4-9ed4-436f-a694-8e083e7c6b1d",
   "metadata": {
    "deletable": false,
    "editable": false
   },
   "source": [
    "##### Write 1–2 sentences describing any trends you observe in each plot. This will be graded for completion."
   ]
  },
  {
   "cell_type": "markdown",
   "id": "5f5c46ed",
   "metadata": {
    "tags": [
     "otter_answer_cell"
    ]
   },
   "source": [
    "For Average Movie Runtime Over Years:\n",
    "\n",
    "    Over time, movies have gradually gotten longer. In the early 1900s, the average movie was around 70 to 90 minutes, but in more recent years, runtimes have often gone past 110 minutes.\n",
    "\n",
    "For Average Movie Rating Over Years:\n",
    "\n",
    "    The average movie rating has been slowly dropping since around the 1950s. Movies used to average above 8.0, but nowadays they tend to fall closer to 6.5 or 7.0"
   ]
  },
  {
   "cell_type": "markdown",
   "id": "7068f846",
   "metadata": {
    "deletable": false,
    "editable": false
   },
   "source": [
    "<!-- END QUESTION -->\n",
    "\n",
    "<br/>\n",
    "\n",
    "---\n",
    "\n",
    "## Question 5\n",
    "\n",
    "Write a SQL query to determine the movie producers with the highest average ratings across all of their movies. Define a **\"movie producer\"** as anyone with a `producer` job category role in a `movie` title type. Construct a query that generates a table consisting of the **producer's name** (as `name`) and their **average producer rating** (as `producerRating`), computed by rescaling the ratings for movies they produced by the number of votes received by each movie. After rescaling the score for each movie, divide the summation of all rescaled ratings by the total number of votes received by each producer. The formula is below:\n",
    "\n",
    "$$\n",
    "\\text{producerRating} = \n",
    "\\frac{\\sum_m (\\text{averageRating}[m] * \\text{numVotes}[m] )}{\\sum_m \\text{numVotes}[m]}\n",
    "$$\n",
    "\n",
    "To make clear the summation, \"m\" refers to a particular movie that a producer worked on. Thus, the summation over \"m\" refers to the summation across all movies that a particular producer contributed to.\n",
    "\n",
    "In addition to the above, only consider ratings where there are **at least 22,500** votes and only consider movie producers that have **at least 20 rated movies**. Present the producers with the **top 10** `producerRating` in **descending** order and break ties alphabetically using the producer's name.\n",
    "\n",
    "The results should look something like this but without the `????`, and with higher rating precision.\n",
    "\n",
    "| name            | producerRating |\n",
    "|-----------------|----------------|\n",
    "| ???             | 7.76...        |\n",
    "| ???             | 7.62...        |\n",
    "| ???             | 7.59...        |\n",
    "| ???             | 7.43...        |\n",
    "| ???             | 7.41...        |\n",
    "| ???             | 7.35...        |\n",
    "| ???             | 7.30...        |\n",
    "| ???             | 7.27...        |\n",
    "| ???             | 7.25...        |\n",
    "| ???             | 7.24...        |\n",
    "\n",
    "**Hint**: Check the data types of `numVotes` and `averageRating` before performing any arithmetic operations.\n",
    "\n",
    "**Notes**:\n",
    "* ***The query should take < 3 minutes to run.***\n",
    "* DO NOT cast `averageRating` **as an integer**. Doing so reduces the precision of the resulting values, so your table may not match up exactly with what is shown below.\n",
    "* If a producer has multiple `role` listings for a movie, then that movie will have a bigger impact on the overall average (this is desired).\n"
   ]
  },
  {
   "cell_type": "code",
   "execution_count": 59,
   "id": "ff4e2fb2-e6f2-4974-a919-225832adbc70",
   "metadata": {
    "tags": [
     "otter_answer_cell"
    ]
   },
   "outputs": [
    {
     "data": {
      "text/html": [
       "<span style=\"None\">Running query in &#x27;duckdb:///data/imdbmini.db&#x27;</span>"
      ],
      "text/plain": [
       "Running query in 'duckdb:///data/imdbmini.db'"
      ]
     },
     "metadata": {},
     "output_type": "display_data"
    },
    {
     "data": {
      "text/html": [
       "<table>\n",
       "    <thead>\n",
       "        <tr>\n",
       "            <th>name</th>\n",
       "            <th>producerRating</th>\n",
       "        </tr>\n",
       "    </thead>\n",
       "    <tbody>\n",
       "        <tr>\n",
       "            <td>Charles Roven</td>\n",
       "            <td>7.768761772894268</td>\n",
       "        </tr>\n",
       "        <tr>\n",
       "            <td>Steve Golin</td>\n",
       "            <td>7.628543557354401</td>\n",
       "        </tr>\n",
       "        <tr>\n",
       "            <td>David Heyman</td>\n",
       "            <td>7.592145954135472</td>\n",
       "        </tr>\n",
       "        <tr>\n",
       "            <td>Kathleen Kennedy</td>\n",
       "            <td>7.4340628083807845</td>\n",
       "        </tr>\n",
       "        <tr>\n",
       "            <td>Joel Silver</td>\n",
       "            <td>7.415345829886901</td>\n",
       "        </tr>\n",
       "        <tr>\n",
       "            <td>Scott Rudin</td>\n",
       "            <td>7.353150451071015</td>\n",
       "        </tr>\n",
       "        <tr>\n",
       "            <td>Dede Gardner</td>\n",
       "            <td>7.302534315612741</td>\n",
       "        </tr>\n",
       "        <tr>\n",
       "            <td>Mark Johnson</td>\n",
       "            <td>7.277885869580468</td>\n",
       "        </tr>\n",
       "        <tr>\n",
       "            <td>Eric Fellner</td>\n",
       "            <td>7.250872208287768</td>\n",
       "        </tr>\n",
       "        <tr>\n",
       "            <td>Denise Di Novi</td>\n",
       "            <td>7.244045762946653</td>\n",
       "        </tr>\n",
       "    </tbody>\n",
       "</table>"
      ],
      "text/plain": [
       "+------------------+--------------------+\n",
       "|       name       |   producerRating   |\n",
       "+------------------+--------------------+\n",
       "|  Charles Roven   | 7.768761772894268  |\n",
       "|   Steve Golin    | 7.628543557354401  |\n",
       "|   David Heyman   | 7.592145954135472  |\n",
       "| Kathleen Kennedy | 7.4340628083807845 |\n",
       "|   Joel Silver    | 7.415345829886901  |\n",
       "|   Scott Rudin    | 7.353150451071015  |\n",
       "|   Dede Gardner   | 7.302534315612741  |\n",
       "|   Mark Johnson   | 7.277885869580468  |\n",
       "|   Eric Fellner   | 7.250872208287768  |\n",
       "|  Denise Di Novi  | 7.244045762946653  |\n",
       "+------------------+--------------------+"
      ]
     },
     "execution_count": 59,
     "metadata": {},
     "output_type": "execute_result"
    }
   ],
   "source": [
    "%%sql --save query_q5\n",
    "\n",
    "WITH producer_movies AS (\n",
    "    SELECT\n",
    "        n.primaryName AS name,\n",
    "        r.tconst,\n",
    "        CAST(rt.averageRating AS FLOAT) AS averageRating,\n",
    "        CAST(rt.numVotes AS INT) AS numVotes\n",
    "    FROM \n",
    "        Role AS r\n",
    "    JOIN \n",
    "        Name AS n ON r.nconst = n.nconst\n",
    "    JOIN \n",
    "        Title AS t ON r.tconst = t.tconst\n",
    "    JOIN \n",
    "        Rating AS rt ON t.tconst = rt.tconst\n",
    "    WHERE \n",
    "        r.category = 'producer'\n",
    "        AND t.titleType = 'movie'\n",
    "        AND CAST(rt.numVotes AS INT) >= 22500\n",
    "),\n",
    "producer_aggregates AS (\n",
    "    SELECT\n",
    "        name,\n",
    "        SUM(averageRating * numVotes) AS weighted_rating_sum,\n",
    "        SUM(numVotes) AS total_votes,\n",
    "        COUNT(DISTINCT tconst) AS movie_count\n",
    "    FROM \n",
    "        producer_movies\n",
    "    GROUP BY \n",
    "        name\n",
    ")\n",
    "SELECT\n",
    "    name,\n",
    "    (weighted_rating_sum * 1.0) / total_votes AS producerRating\n",
    "FROM \n",
    "    producer_aggregates\n",
    "WHERE \n",
    "    movie_count >= 20\n",
    "ORDER BY \n",
    "    producerRating DESC,\n",
    "    name ASC\n",
    "LIMIT 10;\n"
   ]
  },
  {
   "cell_type": "code",
   "execution_count": 60,
   "id": "1f377e25-f5de-4ece-b83f-85a5cbbd1cd2",
   "metadata": {
    "deletable": false,
    "editable": false
   },
   "outputs": [],
   "source": [
    "# Run this cell for grading purposes. \n",
    "# No further action is required. \n",
    "query = %sqlcmd snippets query_q5\n",
    "res_q5 = pd.read_sql(query, \"duckdb:///data/imdbmini.db\")"
   ]
  },
  {
   "cell_type": "code",
   "execution_count": 61,
   "id": "7fb02a0b",
   "metadata": {
    "deletable": false,
    "editable": false
   },
   "outputs": [
    {
     "data": {
      "text/html": [
       "<p><strong><pre style='display: inline;'>q5</pre></strong> passed! 🍀</p>"
      ],
      "text/plain": [
       "q5 results: All test cases passed!"
      ]
     },
     "execution_count": 61,
     "metadata": {},
     "output_type": "execute_result"
    }
   ],
   "source": [
    "grader.check(\"q5\")"
   ]
  },
  {
   "cell_type": "markdown",
   "id": "77b9dc58",
   "metadata": {
    "nbgrader": {
     "grade": false,
     "grade_id": "finish",
     "locked": true,
     "schema_version": 2,
     "solution": false
    },
    "tags": []
   },
   "source": [
    "\n",
    "<br><br>\n",
    "\n",
    "\n",
    "<hr style=\"border: 5px solid #003262;\" />\n",
    "<hr style=\"border: 1px solid #fdb515;\" />\n",
    "\n",
    "## Chanel and Opal congratulate you for finishing Homework 7!\n",
    "\n",
    "<img src=\"images/chanel.jpg\" width=\"240\"/> <img src=\"images/opal.jpg\" width=\"320\"/>\n",
    "\n",
    "### Course Content Feedback\n",
    "\n",
    "If you have any feedback about this assignment or about any of our other weekly, weekly assignments, lectures, or discussions, please fill out the [Course Content Feedback Form](https://docs.google.com/forms/d/e/1FAIpQLSdpKA_E3b7PGqKSRqBUgSebb9bVFhRwRBv1ueisGsnKFkZkYg/viewform?usp=sf_link). Your input is valuable in helping us improve the quality and relevance of our content to better meet your needs and expectations!\n",
    "\n",
    "### Submission Instructions\n",
    "\n",
    "Below, you will see a cell. Running this cell will automatically generate a zip file with your autograded answers. Once you submit this file to the Homework 7 Coding assignment on Gradescope, Gradescope will automatically submit a PDF file with your written answers to the Homework 7 Written assignment. If you run into any issues when running this cell, feel free to check the [\"Why did a Gradescope test fail when all the Jupyter notebook’s tests passed?\"](https://ds100.org/debugging-guide/autograder_gradescope/autograder_gradescope.html#why-did-a-gradescope-test-fail-when-all-the-jupyter-notebooks-tests-passed) section of the Data 100 Debugging Guide.\n",
    "\n",
    "If there are issues with automatically generating the PDF, try downloading the notebook as a PDF by clicking on `File -> Save and Export Notebook As... -> PDF`. If that doesn't work, download the notebook as an HTML file by clicking on `File -> Save and Export Notebook As... -> HTML`, open the HTML file in your browser, and Ctrl + P or Cmd + P (Mac) to save the file as a PDF. Alternatively, you can  manually take screenshots of your answers to the manually graded questions and submit a PDF containing those. \n",
    "\n",
    "**You are responsible for ensuring your submission follows our requirements and that everything was generated and submitted correctly. We will not be granting regrade requests nor extensions to submissions that don't follow instructions.** If you encounter any difficulties with submission, please don't hesitate to reach out to staff prior to the deadline. "
   ]
  },
  {
   "cell_type": "markdown",
   "id": "6b35212d",
   "metadata": {
    "deletable": false,
    "editable": false
   },
   "source": [
    "## Submission\n",
    "\n",
    "Make sure you have run all cells in your notebook in order before running the cell below, so that all images/graphs appear in the output. The cell below will generate a zip file for you to submit. **Please save before exporting!**"
   ]
  },
  {
   "cell_type": "code",
   "execution_count": 62,
   "id": "6a5dced6",
   "metadata": {
    "deletable": false,
    "editable": false
   },
   "outputs": [
    {
     "name": "stdout",
     "output_type": "stream",
     "text": [
      "Running your submission against local test cases...\n",
      "\n",
      "\n",
      "Your submission received the following results when run against available test cases:\n",
      "\n",
      "    q1a results: All test cases passed!\n",
      "\n",
      "    q1b results: All test cases passed!\n",
      "\n",
      "    q2 results: All test cases passed!\n",
      "\n",
      "    q3 results: All test cases passed!\n",
      "\n",
      "    q4a results: All test cases passed!\n",
      "\n",
      "    q5 results: All test cases passed!\n"
     ]
    },
    {
     "data": {
      "text/html": [
       "\n",
       "                    <p>\n",
       "                        Your submission has been exported. Click\n",
       "                        <a href=\"hw07_2025_04_17T23_11_03_395590.zip\" download=\"hw07_2025_04_17T23_11_03_395590.zip\" target=\"_blank\">here</a> to download\n",
       "                        the zip file.\n",
       "                    </p>\n",
       "                "
      ],
      "text/plain": [
       "<IPython.core.display.HTML object>"
      ]
     },
     "metadata": {},
     "output_type": "display_data"
    }
   ],
   "source": [
    "# Save your notebook first, then run this cell to export your submission.\n",
    "grader.export(run_tests=True)"
   ]
  },
  {
   "cell_type": "markdown",
   "id": "bc7dcff4",
   "metadata": {},
   "source": [
    " "
   ]
  }
 ],
 "metadata": {
  "kernelspec": {
   "display_name": "Python 3 (ipykernel)",
   "language": "python",
   "name": "python3"
  },
  "language_info": {
   "codemirror_mode": {
    "name": "ipython",
    "version": 3
   },
   "file_extension": ".py",
   "mimetype": "text/x-python",
   "name": "python",
   "nbconvert_exporter": "python",
   "pygments_lexer": "ipython3",
   "version": "3.11.11"
  },
  "otter": {
   "OK_FORMAT": true,
   "require_no_pdf_confirmation": true,
   "tests": {
    "q1a": {
     "name": "q1a",
     "points": 2,
     "suites": [
      {
       "cases": [
        {
         "code": ">>> assert bool(res_q1a.shape == (10, 3) or res_q1a.shape == (15, 3))\n",
         "hidden": false,
         "locked": false
        },
        {
         "code": ">>> assert bool(set(res_q1a.columns) == set(['startYear', 'primaryTitle', 'titleType']))\n",
         "hidden": false,
         "locked": false
        },
        {
         "code": ">>> assert bool(np.all(res_q1a['titleType'] == 'movie'))\n",
         "hidden": false,
         "locked": false
        },
        {
         "code": ">>> actual_years = list(res_q1a['startYear'].astype(str))\n>>> expected_sets = [['1902', '1915', '1920', '1921', '1922', '1924', '1925', '1925', '1926', '1927'], ['1915', '1920', '1921', '1922', '1924', '1925', '1925', '1926', '1927', '1927'], ['1915', '1920', '1921', '1922', '1924', '1925', '1925', '1926', '1927', '1927', '1928', '1928', '1929', '1930', '1931']]\n>>> assert actual_years in expected_sets\n",
         "hidden": false,
         "locked": false
        },
        {
         "code": ">>> assert bool(res_q1a.loc[5, 'primaryTitle'] == 'Battleship Potemkin')\n",
         "hidden": false,
         "locked": false
        }
       ],
       "scored": true,
       "setup": "",
       "teardown": "",
       "type": "doctest"
      }
     ]
    },
    "q1b": {
     "name": "q1b",
     "points": 2,
     "suites": [
      {
       "cases": [
        {
         "code": ">>> assert bool(res_q1b.shape == (102, 2))\n",
         "hidden": false,
         "locked": false
        },
        {
         "code": ">>> assert bool(res_q1b.size == 204)\n",
         "hidden": false,
         "locked": false
        },
        {
         "code": ">>> assert bool(np.all(np.isclose(list(res_q1b.median()), [1970.5, 19.0])))\n",
         "hidden": false,
         "locked": false
        }
       ],
       "scored": true,
       "setup": "",
       "teardown": "",
       "type": "doctest"
      }
     ]
    },
    "q2": {
     "name": "q2",
     "points": 3,
     "suites": [
      {
       "cases": [
        {
         "code": ">>> assert bool(res_q2.shape == (10, 2))\n",
         "hidden": false,
         "locked": false
        },
        {
         "code": ">>> assert bool(set(res_q2.columns) == set(['name', 'total']))\n",
         "hidden": false,
         "locked": false
        },
        {
         "code": ">>> assert bool(sum(res_q2['total']) == 463)\n",
         "hidden": false,
         "locked": false
        },
        {
         "code": ">>> assert bool(sorted(list(res_q2['name'])) == ['Adam Sandler', 'Bruce Willis', 'Johnny Depp', 'Liam Neeson', 'Mark Wahlberg', 'Morgan Freeman', 'Nicolas Cage', 'Robert De Niro', 'Samuel L. Jackson', 'Tom Hanks'])\n",
         "hidden": false,
         "locked": false
        }
       ],
       "scored": true,
       "setup": "",
       "teardown": "",
       "type": "doctest"
      }
     ]
    },
    "q3": {
     "name": "q3",
     "points": 3,
     "suites": [
      {
       "cases": [
        {
         "code": ">>> assert bool(res_q3.shape == (2, 2))\n",
         "hidden": false,
         "locked": false
        },
        {
         "code": ">>> assert bool(set(res_q3.columns) == set(['isBigHit', 'total']))\n",
         "hidden": false,
         "locked": false
        },
        {
         "code": ">>> assert bool(set(res_q3['isBigHit']) == set(['yes', 'no']))\n",
         "hidden": false,
         "locked": false
        },
        {
         "code": ">>> assert bool(set(res_q3['total']) == {2041, 4318})\n",
         "hidden": false,
         "locked": false
        }
       ],
       "scored": true,
       "setup": "",
       "teardown": "",
       "type": "doctest"
      }
     ]
    },
    "q4a": {
     "name": "q4a",
     "points": 4,
     "suites": [
      {
       "cases": [
        {
         "code": ">>> assert set(res_q4a.columns) == {'startYear', 'avgRuntime', 'avgRating'}\n",
         "hidden": false,
         "locked": false
        },
        {
         "code": ">>> assert res_q4a['avgRuntime'].between(45.0, 152.0).all()\n>>> assert res_q4a['avgRating'].between(6.470707, 8.5).all()\n",
         "hidden": false,
         "locked": false
        },
        {
         "code": ">>> assert res_q4a.dtypes['startYear'] == 'int64'\n>>> assert res_q4a.dtypes['avgRuntime'] == 'float64'\n>>> assert res_q4a.dtypes['avgRating'] == 'float64'\n",
         "hidden": false,
         "locked": false
        },
        {
         "code": ">>> assert list(res_q4a['startYear']) == sorted(res_q4a['startYear'])\n",
         "hidden": false,
         "locked": false
        },
        {
         "code": ">>> assert len(res_q4a) == 100\n",
         "hidden": false,
         "locked": false
        }
       ],
       "scored": true,
       "setup": "",
       "teardown": "",
       "type": "doctest"
      }
     ]
    },
    "q5": {
     "name": "q5",
     "points": 4,
     "suites": [
      {
       "cases": [
        {
         "code": ">>> assert res_q5.shape == (10, 2)\n",
         "hidden": false,
         "locked": false
        },
        {
         "code": ">>> assert set(res_q5.columns) == set(['name', 'producerRating'])\n",
         "hidden": false,
         "locked": false
        }
       ],
       "scored": true,
       "setup": "",
       "teardown": "",
       "type": "doctest"
      }
     ]
    }
   }
  }
 },
 "nbformat": 4,
 "nbformat_minor": 5
}
